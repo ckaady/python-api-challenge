{
 "cells": [
  {
   "cell_type": "markdown",
   "metadata": {},
   "source": [
    "# WeatherPy\n",
    "----\n",
    "\n",
    "#### Note\n",
    "* Instructions have been included for each segment. You do not have to follow them exactly, but they are included to help you think through the steps."
   ]
  },
  {
   "cell_type": "code",
   "execution_count": 11,
   "metadata": {
    "scrolled": true
   },
   "outputs": [],
   "source": [
    "# Dependencies and Setup\n",
    "import matplotlib.pyplot as plt\n",
    "import pandas as pd\n",
    "import numpy as np\n",
    "import requests\n",
    "import time\n",
    "import json\n",
    "import scipy.stats as st\n",
    "from scipy.stats import linregress\n",
    "\n",
    "# Import API key\n",
    "from config import weather_api_key\n",
    "\n",
    "# Incorporated citipy to determine city based on latitude and longitude\n",
    "from citipy import citipy\n",
    "\n",
    "# Output File (CSV)\n",
    "output_data_file = \"../output_data/cities.csv\"\n",
    "\n",
    "# Range of latitudes and longitudes\n",
    "lat_range = (-90, 90)\n",
    "lng_range = (-180, 180)"
   ]
  },
  {
   "cell_type": "markdown",
   "metadata": {},
   "source": [
    "## Generate Cities List"
   ]
  },
  {
   "cell_type": "code",
   "execution_count": 12,
   "metadata": {},
   "outputs": [
    {
     "data": {
      "text/plain": [
       "616"
      ]
     },
     "execution_count": 12,
     "metadata": {},
     "output_type": "execute_result"
    }
   ],
   "source": [
    "# List for holding lat_lngs and cities\n",
    "lat_lngs = []\n",
    "cities = []\n",
    "\n",
    "# Create a set of random lat and lng combinations\n",
    "lats = np.random.uniform(lat_range[0], lat_range[1], size=1500)\n",
    "lngs = np.random.uniform(lng_range[0], lng_range[1], size=1500)\n",
    "lat_lngs = zip(lats, lngs)\n",
    "\n",
    "# Identify nearest city for each lat, lng combination\n",
    "for lat_lng in lat_lngs:\n",
    "    city = citipy.nearest_city(lat_lng[0], lat_lng[1]).city_name\n",
    "    \n",
    "    # If the city is unique, then add it to a our cities list\n",
    "    if city not in cities:\n",
    "        cities.append(city)\n",
    "\n",
    "# Print the city count to confirm sufficient count\n",
    "len(cities)"
   ]
  },
  {
   "cell_type": "markdown",
   "metadata": {},
   "source": [
    "### Perform API Calls  --- Look at the file on GitLab for example!\n",
    "* Perform a weather check on each city using a series of successive API calls.\n",
    "* Include a print log of each city as it'sbeing processed (with the city number and city name).\n"
   ]
  },
  {
   "cell_type": "code",
   "execution_count": 13,
   "metadata": {},
   "outputs": [],
   "source": [
    "# # Save config information.\n",
    "url = \"http://api.openweathermap.org/data/2.5/weather?\"\n",
    "units = \"imperial\"\n",
    "\n",
    "# # # Build partial query URL\n",
    "query_url = f\"{url}appid={weather_api_key}&units={units}&q=\""
   ]
  },
  {
   "cell_type": "code",
   "execution_count": 14,
   "metadata": {},
   "outputs": [
    {
     "name": "stdout",
     "output_type": "stream",
     "text": [
      " Processing Record 1 | rikitea\n",
      " Processing Record 2 | saint-philippe\n",
      "City not found. Skipping.\n",
      " Processing Record 3 | yellowknife\n",
      " Processing Record 4 | poopo\n",
      " Processing Record 5 | mar del plata\n",
      " Processing Record 6 | avarua\n",
      " Processing Record 7 | yulara\n",
      " Processing Record 8 | puerto ayora\n",
      " Processing Record 9 | ushuaia\n",
      " Processing Record 10 | vaini\n",
      " Processing Record 11 | bredasdorp\n",
      " Processing Record 12 | esperance\n",
      " Processing Record 13 | wanning\n",
      " Processing Record 14 | homestead\n",
      " Processing Record 15 | marathon\n",
      " Processing Record 16 | tiksi\n",
      " Processing Record 17 | cape town\n",
      " Processing Record 18 | albany\n",
      " Processing Record 19 | ixtapa\n",
      " Processing Record 20 | jamestown\n",
      " Processing Record 21 | necochea\n",
      " Processing Record 22 | bud\n",
      " Processing Record 23 | victoria\n",
      "City not found. Skipping.\n",
      " Processing Record 24 | clyde river\n",
      " Processing Record 25 | tuatapere\n",
      " Processing Record 26 | georgetown\n",
      "City not found. Skipping.\n",
      " Processing Record 27 | severo-kurilsk\n",
      " Processing Record 28 | busselton\n",
      " Processing Record 29 | port blair\n",
      " Processing Record 30 | xuanzhou\n",
      " Processing Record 31 | hobart\n",
      " Processing Record 32 | vila velha\n",
      " Processing Record 33 | ponta do sol\n",
      " Processing Record 34 | tasiilaq\n",
      " Processing Record 35 | punta arenas\n",
      "City not found. Skipping.\n",
      " Processing Record 36 | coihaique\n",
      " Processing Record 37 | mataura\n",
      " Processing Record 38 | praia da vitoria\n",
      " Processing Record 39 | butaritari\n",
      " Processing Record 40 | bluff\n",
      " Processing Record 41 | kapaa\n",
      " Processing Record 42 | hervey bay\n",
      " Processing Record 43 | yarqa\n",
      " Processing Record 44 | pokhara\n",
      " Processing Record 45 | atuona\n",
      " Processing Record 46 | toora-khem\n",
      " Processing Record 47 | arraial do cabo\n",
      " Processing Record 48 | kavieng\n",
      " Processing Record 49 | hermanus\n",
      " Processing Record 50 | yar-sale\n",
      " Processing Record 51 | souillac\n",
      " Processing Record 52 | ribeira grande\n",
      " Processing Record 53 | mattawa\n",
      " Processing Record 54 | shenjiamen\n",
      "City not found. Skipping.\n",
      " Processing Record 55 | nikolskoye\n",
      " Processing Record 56 | guymon\n",
      " Processing Record 57 | san marcos de colon\n",
      " Processing Record 58 | mount isa\n",
      " Processing Record 59 | east london\n",
      " Processing Record 60 | nichinan\n",
      " Processing Record 61 | humaita\n",
      " Processing Record 62 | grindavik\n",
      " Processing Record 63 | eyl\n",
      " Processing Record 64 | farah\n",
      " Processing Record 65 | kruisfontein\n",
      " Processing Record 66 | port alfred\n",
      " Processing Record 67 | marfino\n",
      " Processing Record 68 | doka\n",
      " Processing Record 69 | alekseyevka\n",
      " Processing Record 70 | nalut\n",
      " Processing Record 71 | russell\n",
      " Processing Record 72 | upernavik\n",
      " Processing Record 73 | lompoc\n",
      " Processing Record 74 | aripuana\n",
      "City not found. Skipping.\n",
      " Processing Record 75 | kodiak\n",
      " Processing Record 76 | pottsville\n",
      " Processing Record 77 | bambous virieux\n",
      " Processing Record 78 | tuktoyaktuk\n",
      " Processing Record 79 | westport\n",
      " Processing Record 80 | maple shade\n",
      " Processing Record 81 | mnogovershinnyy\n",
      " Processing Record 82 | chokurdakh\n",
      " Processing Record 83 | yumen\n",
      "City not found. Skipping.\n",
      " Processing Record 84 | thompson\n",
      " Processing Record 85 | salalah\n",
      " Processing Record 86 | emerald\n",
      " Processing Record 87 | kibre mengist\n",
      " Processing Record 88 | les cayes\n",
      " Processing Record 89 | poum\n",
      " Processing Record 90 | taoudenni\n",
      " Processing Record 91 | chuy\n",
      " Processing Record 92 | port elizabeth\n",
      " Processing Record 93 | caconde\n",
      " Processing Record 94 | nantucket\n",
      " Processing Record 95 | road town\n",
      " Processing Record 96 | port lincoln\n",
      " Processing Record 97 | bahir dar\n",
      " Processing Record 98 | liverpool\n",
      " Processing Record 99 | lagunas\n",
      " Processing Record 100 | zaysan\n",
      " Processing Record 101 | meulaboh\n",
      " Processing Record 102 | coahuayana\n",
      " Processing Record 103 | hilo\n",
      " Processing Record 104 | yacuiba\n",
      " Processing Record 105 | zhigansk\n",
      " Processing Record 106 | iranshahr\n",
      " Processing Record 107 | muravlenko\n",
      " Processing Record 108 | borogontsy\n",
      " Processing Record 109 | saint george\n",
      "City not found. Skipping.\n",
      " Processing Record 110 | kloulklubed\n",
      " Processing Record 111 | belmonte\n",
      "City not found. Skipping.\n",
      "City not found. Skipping.\n",
      " Processing Record 112 | namatanai\n",
      " Processing Record 113 | eureka\n",
      " Processing Record 114 | provideniya\n",
      " Processing Record 115 | tonantins\n",
      " Processing Record 116 | teya\n",
      " Processing Record 117 | longyearbyen\n",
      " Processing Record 118 | zhanaozen\n",
      " Processing Record 119 | new norfolk\n",
      " Processing Record 120 | oriximina\n",
      " Processing Record 121 | pimentel\n",
      " Processing Record 122 | klaksvik\n",
      "City not found. Skipping.\n",
      " Processing Record 123 | ancud\n",
      " Processing Record 124 | esso\n",
      "City not found. Skipping.\n",
      " Processing Record 125 | hithadhoo\n",
      " Processing Record 126 | gat\n",
      " Processing Record 127 | luangwa\n",
      " Processing Record 128 | dingle\n",
      " Processing Record 129 | buguruslan\n",
      " Processing Record 130 | yangambi\n",
      " Processing Record 131 | lorengau\n",
      " Processing Record 132 | itaituba\n",
      " Processing Record 133 | yeppoon\n",
      " Processing Record 134 | seymchan\n",
      " Processing Record 135 | lobez\n",
      "City not found. Skipping.\n",
      " Processing Record 136 | avera\n",
      "City not found. Skipping.\n",
      " Processing Record 137 | griffith\n",
      "City not found. Skipping.\n",
      " Processing Record 138 | dikson\n",
      " Processing Record 139 | san cristobal\n",
      " Processing Record 140 | jalu\n",
      " Processing Record 141 | geraldton\n",
      " Processing Record 142 | berlevag\n",
      " Processing Record 143 | state college\n",
      " Processing Record 144 | mahebourg\n",
      " Processing Record 145 | mehamn\n",
      " Processing Record 146 | urusha\n",
      " Processing Record 147 | castro\n",
      " Processing Record 148 | masinigudi\n",
      " Processing Record 149 | minyar\n",
      " Processing Record 150 | isangel\n",
      " Processing Record 151 | leningradskiy\n",
      " Processing Record 152 | tadine\n",
      " Processing Record 153 | whitehorse\n",
      " Processing Record 154 | airai\n",
      " Processing Record 155 | wakuya\n",
      " Processing Record 156 | kaitangata\n",
      "City not found. Skipping.\n",
      " Processing Record 157 | biograd na moru\n",
      " Processing Record 158 | truro\n",
      " Processing Record 159 | namibe\n",
      " Processing Record 160 | laguna\n",
      " Processing Record 161 | sawtell\n",
      " Processing Record 162 | lanxi\n",
      " Processing Record 163 | dzhida\n",
      " Processing Record 164 | qaanaaq\n",
      " Processing Record 165 | saskylakh\n",
      " Processing Record 166 | clermont\n",
      " Processing Record 167 | portland\n",
      " Processing Record 168 | okha\n",
      "City not found. Skipping.\n",
      "City not found. Skipping.\n",
      " Processing Record 169 | watsa\n",
      " Processing Record 170 | san rafael\n",
      " Processing Record 171 | catalina\n",
      " Processing Record 172 | waingapu\n",
      " Processing Record 173 | mporokoso\n",
      " Processing Record 174 | la asuncion\n",
      " Processing Record 175 | shingu\n",
      " Processing Record 176 | dudinka\n",
      " Processing Record 177 | san patricio\n",
      " Processing Record 178 | barrow\n",
      " Processing Record 179 | mogadishu\n",
      " Processing Record 180 | newport\n",
      " Processing Record 181 | lebu\n",
      " Processing Record 182 | chapais\n",
      " Processing Record 183 | lata\n",
      " Processing Record 184 | sambava\n",
      "City not found. Skipping.\n",
      " Processing Record 185 | villa carlos paz\n",
      " Processing Record 186 | kasongo-lunda\n",
      " Processing Record 187 | wundanyi\n",
      " Processing Record 188 | hamina\n",
      "City not found. Skipping.\n",
      " Processing Record 189 | kudahuvadhoo\n",
      " Processing Record 190 | marsa matruh\n",
      " Processing Record 191 | sao filipe\n",
      " Processing Record 192 | wahpeton\n",
      " Processing Record 193 | komsomolskiy\n",
      "City not found. Skipping.\n",
      " Processing Record 194 | katsuura\n",
      " Processing Record 195 | comodoro rivadavia\n",
      "City not found. Skipping.\n",
      " Processing Record 196 | vyshneve\n",
      " Processing Record 197 | fortuna\n",
      " Processing Record 198 | elmadag\n",
      " Processing Record 199 | dunmore town\n",
      " Processing Record 200 | husavik\n",
      " Processing Record 201 | bejar\n",
      " Processing Record 202 | hudiksvall\n",
      " Processing Record 203 | poltavka\n",
      " Processing Record 204 | lusambo\n",
      "City not found. Skipping.\n",
      " Processing Record 205 | beloha\n",
      " Processing Record 206 | concordia\n",
      " Processing Record 207 | kavaratti\n",
      " Processing Record 208 | cherskiy\n",
      " Processing Record 209 | lasalgaon\n",
      " Processing Record 210 | jumla\n",
      " Processing Record 211 | maple creek\n",
      " Processing Record 212 | taksimo\n",
      " Processing Record 213 | marawi\n",
      " Processing Record 214 | remontnoye\n",
      " Processing Record 215 | khandyga\n",
      "City not found. Skipping.\n",
      " Processing Record 216 | hit\n",
      " Processing Record 217 | te anau\n",
      " Processing Record 218 | ekhabi\n",
      " Processing Record 219 | urumqi\n",
      " Processing Record 220 | yablonovo\n",
      "City not found. Skipping.\n",
      " Processing Record 221 | luanda\n",
      " Processing Record 222 | amudat\n",
      " Processing Record 223 | houma\n"
     ]
    },
    {
     "name": "stdout",
     "output_type": "stream",
     "text": [
      " Processing Record 224 | sitka\n",
      " Processing Record 225 | sulangan\n",
      " Processing Record 226 | broome\n",
      " Processing Record 227 | carnarvon\n",
      "City not found. Skipping.\n",
      " Processing Record 228 | tilichiki\n",
      " Processing Record 229 | yataity\n",
      " Processing Record 230 | nabire\n",
      "City not found. Skipping.\n",
      " Processing Record 231 | kampot\n",
      "City not found. Skipping.\n",
      " Processing Record 232 | taga\n",
      " Processing Record 233 | yelizovo\n",
      " Processing Record 234 | hohhot\n",
      " Processing Record 235 | yelovo\n",
      " Processing Record 236 | castelfidardo\n",
      " Processing Record 237 | narsaq\n",
      " Processing Record 238 | port augusta\n",
      " Processing Record 239 | hasaki\n",
      " Processing Record 240 | lengshuitan\n",
      " Processing Record 241 | povenets\n",
      " Processing Record 242 | faanui\n",
      " Processing Record 243 | fort nelson\n",
      " Processing Record 244 | mount gambier\n",
      " Processing Record 245 | spitsevka\n",
      " Processing Record 246 | yerbogachen\n",
      " Processing Record 247 | silvania\n",
      " Processing Record 248 | udala\n",
      " Processing Record 249 | san ramon\n",
      " Processing Record 250 | aklavik\n",
      " Processing Record 251 | northam\n",
      "City not found. Skipping.\n",
      " Processing Record 252 | luoyang\n",
      " Processing Record 253 | xiongzhou\n",
      " Processing Record 254 | bati\n",
      " Processing Record 255 | lagoa\n",
      " Processing Record 256 | iqaluit\n",
      " Processing Record 257 | bilibino\n",
      " Processing Record 258 | pangody\n",
      " Processing Record 259 | oksfjord\n",
      " Processing Record 260 | sorland\n",
      " Processing Record 261 | seydi\n",
      " Processing Record 262 | codrington\n",
      " Processing Record 263 | wuwei\n",
      " Processing Record 264 | eirunepe\n",
      " Processing Record 265 | lishui\n",
      " Processing Record 266 | camana\n",
      " Processing Record 267 | boyuibe\n",
      " Processing Record 268 | hofn\n",
      "City not found. Skipping.\n",
      " Processing Record 269 | dolores\n",
      " Processing Record 270 | shitanjing\n",
      " Processing Record 271 | tlazazalca\n",
      " Processing Record 272 | san clemente\n",
      " Processing Record 273 | karpogory\n",
      " Processing Record 274 | solnechnyy\n",
      " Processing Record 275 | emet\n",
      " Processing Record 276 | bambanglipuro\n",
      " Processing Record 277 | sonoita\n",
      " Processing Record 278 | balkhash\n",
      " Processing Record 279 | pemangkat\n",
      " Processing Record 280 | tiznit\n",
      " Processing Record 281 | linjiang\n",
      "City not found. Skipping.\n",
      " Processing Record 282 | le port\n",
      " Processing Record 283 | grand gaube\n",
      " Processing Record 284 | colomi\n",
      " Processing Record 285 | bethel\n",
      " Processing Record 286 | maningrida\n",
      " Processing Record 287 | carahue\n",
      " Processing Record 288 | ludvika\n",
      " Processing Record 289 | vila franca do campo\n",
      " Processing Record 290 | innisfail\n",
      " Processing Record 291 | hokitika\n",
      " Processing Record 292 | luba\n",
      " Processing Record 293 | alofi\n",
      " Processing Record 294 | novo aripuana\n",
      " Processing Record 295 | flin flon\n",
      " Processing Record 296 | ambato\n",
      "City not found. Skipping.\n",
      " Processing Record 297 | saldanha\n",
      "City not found. Skipping.\n",
      " Processing Record 298 | pevek\n",
      " Processing Record 299 | kovernino\n",
      " Processing Record 300 | xiamen\n",
      " Processing Record 301 | ville-marie\n",
      " Processing Record 302 | mae sai\n",
      " Processing Record 303 | ingham\n",
      "City not found. Skipping.\n",
      " Processing Record 304 | mercedes\n",
      " Processing Record 305 | thohoyandou\n",
      " Processing Record 306 | soloneshnoye\n",
      "City not found. Skipping.\n",
      " Processing Record 307 | kortkeros\n",
      " Processing Record 308 | gamba\n",
      " Processing Record 309 | cayenne\n",
      " Processing Record 310 | soyo\n",
      " Processing Record 311 | nazarovo\n",
      " Processing Record 312 | chancay\n",
      " Processing Record 313 | lethem\n",
      " Processing Record 314 | vredendal\n",
      " Processing Record 315 | khatanga\n",
      " Processing Record 316 | deputatskiy\n",
      " Processing Record 317 | vestmannaeyjar\n",
      " Processing Record 318 | miri\n",
      " Processing Record 319 | riviere-au-renard\n",
      "City not found. Skipping.\n",
      " Processing Record 320 | huzhou\n",
      " Processing Record 321 | sioux lookout\n",
      " Processing Record 322 | virginia beach\n",
      " Processing Record 323 | iquique\n",
      " Processing Record 324 | miraflores\n",
      " Processing Record 325 | shakhtinsk\n",
      " Processing Record 326 | norman wells\n",
      " Processing Record 327 | jackson\n",
      " Processing Record 328 | pacific grove\n",
      " Processing Record 329 | lodja\n",
      " Processing Record 330 | bandarbeyla\n",
      " Processing Record 331 | killarney\n",
      " Processing Record 332 | roald\n",
      " Processing Record 333 | tabou\n",
      " Processing Record 334 | nanortalik\n",
      " Processing Record 335 | mingshui\n",
      " Processing Record 336 | cabo san lucas\n",
      " Processing Record 337 | juba\n",
      " Processing Record 338 | ostrovnoy\n",
      " Processing Record 339 | altay\n",
      " Processing Record 340 | coffs harbour\n",
      " Processing Record 341 | jieshi\n",
      " Processing Record 342 | paita\n",
      " Processing Record 343 | cockburn town\n",
      " Processing Record 344 | smirnykh\n",
      " Processing Record 345 | birjand\n",
      " Processing Record 346 | seddon\n",
      " Processing Record 347 | hambantota\n",
      " Processing Record 348 | ballitoville\n",
      " Processing Record 349 | goderich\n",
      "City not found. Skipping.\n",
      " Processing Record 350 | hami\n",
      " Processing Record 351 | carutapera\n",
      " Processing Record 352 | voznesenye\n",
      " Processing Record 353 | puerto del rosario\n",
      " Processing Record 354 | zyryanka\n",
      " Processing Record 355 | aki\n",
      " Processing Record 356 | milkovo\n",
      "City not found. Skipping.\n",
      " Processing Record 357 | le locle\n",
      " Processing Record 358 | san luis\n",
      " Processing Record 359 | kholmogory\n",
      "City not found. Skipping.\n",
      " Processing Record 360 | onverwacht\n",
      " Processing Record 361 | dunmore east\n",
      " Processing Record 362 | ilulissat\n",
      " Processing Record 363 | nome\n",
      " Processing Record 364 | abha\n",
      " Processing Record 365 | ayagoz\n",
      " Processing Record 366 | sao felix do xingu\n",
      " Processing Record 367 | saint-joseph\n",
      " Processing Record 368 | anadyr\n",
      " Processing Record 369 | beibei\n",
      " Processing Record 370 | juneau\n",
      " Processing Record 371 | sao miguel do araguaia\n",
      " Processing Record 372 | poladpur\n",
      " Processing Record 373 | havoysund\n",
      " Processing Record 374 | pierre\n",
      " Processing Record 375 | college\n",
      " Processing Record 376 | alamosa\n",
      " Processing Record 377 | lavrentiya\n",
      " Processing Record 378 | pisco\n",
      "City not found. Skipping.\n",
      " Processing Record 379 | adrar\n",
      " Processing Record 380 | uzhur\n",
      " Processing Record 381 | koungheul\n",
      " Processing Record 382 | vostok\n",
      " Processing Record 383 | ploemeur\n",
      " Processing Record 384 | liwale\n",
      "City not found. Skipping.\n",
      " Processing Record 385 | quatre cocos\n",
      " Processing Record 386 | choix\n",
      "City not found. Skipping.\n",
      "City not found. Skipping.\n",
      " Processing Record 387 | dakar\n",
      " Processing Record 388 | choma\n",
      " Processing Record 389 | naze\n",
      " Processing Record 390 | talcahuano\n",
      " Processing Record 391 | paciran\n",
      " Processing Record 392 | santa cecilia\n",
      " Processing Record 393 | kurtamysh\n",
      " Processing Record 394 | half moon bay\n",
      "City not found. Skipping.\n",
      " Processing Record 395 | sturgeon bay\n",
      " Processing Record 396 | chany\n",
      " Processing Record 397 | acapulco\n",
      " Processing Record 398 | mabaruma\n",
      " Processing Record 399 | paraiso\n",
      "City not found. Skipping.\n",
      "City not found. Skipping.\n",
      " Processing Record 400 | bonthe\n",
      " Processing Record 401 | pangnirtung\n",
      " Processing Record 402 | palmdale\n",
      " Processing Record 403 | bengkulu\n",
      " Processing Record 404 | aswan\n",
      "City not found. Skipping.\n",
      " Processing Record 405 | beringovskiy\n",
      " Processing Record 406 | racine\n",
      " Processing Record 407 | sosnovo-ozerskoye\n",
      " Processing Record 408 | maridi\n",
      " Processing Record 409 | porto seguro\n",
      " Processing Record 410 | mazatlan\n",
      " Processing Record 411 | syracuse\n",
      " Processing Record 412 | faya\n",
      " Processing Record 413 | fairbanks\n",
      " Processing Record 414 | fengcheng\n",
      " Processing Record 415 | rionegro\n",
      " Processing Record 416 | abu samrah\n",
      " Processing Record 417 | pestyaki\n",
      " Processing Record 418 | laupheim\n",
      " Processing Record 419 | oranjestad\n",
      " Processing Record 420 | umm lajj\n",
      " Processing Record 421 | severo-yeniseyskiy\n",
      " Processing Record 422 | xuddur\n",
      " Processing Record 423 | luderitz\n",
      " Processing Record 424 | coihueco\n",
      " Processing Record 425 | baghdad\n",
      " Processing Record 426 | comlosu mare\n",
      " Processing Record 427 | saint anthony\n",
      " Processing Record 428 | mahibadhoo\n",
      " Processing Record 429 | easley\n",
      " Processing Record 430 | cidreira\n",
      " Processing Record 431 | mitu\n",
      " Processing Record 432 | usinsk\n",
      " Processing Record 433 | atar\n",
      " Processing Record 434 | changli\n",
      " Processing Record 435 | vardo\n",
      " Processing Record 436 | flagstaff\n",
      " Processing Record 437 | chickasha\n",
      " Processing Record 438 | namie\n",
      " Processing Record 439 | poncitlan\n",
      " Processing Record 440 | coquimbo\n",
      " Processing Record 441 | koupela\n",
      " Processing Record 442 | sembe\n",
      " Processing Record 443 | eydhafushi\n",
      " Processing Record 444 | labuhan\n",
      " Processing Record 445 | vrnjacka banja\n",
      " Processing Record 446 | la romana\n"
     ]
    },
    {
     "name": "stdout",
     "output_type": "stream",
     "text": [
      " Processing Record 447 | kisangani\n",
      " Processing Record 448 | zhangye\n",
      " Processing Record 449 | kajaani\n",
      "City not found. Skipping.\n",
      " Processing Record 450 | santa teresa\n",
      " Processing Record 451 | krasnogorskoye\n",
      " Processing Record 452 | christchurch\n",
      " Processing Record 453 | ambagarh chauki\n",
      " Processing Record 454 | mariental\n",
      " Processing Record 455 | aksu\n",
      " Processing Record 456 | kangaatsiaq\n",
      " Processing Record 457 | talnakh\n",
      " Processing Record 458 | at-bashi\n",
      " Processing Record 459 | poros\n",
      " Processing Record 460 | tura\n",
      " Processing Record 461 | mettingen\n",
      " Processing Record 462 | talara\n",
      " Processing Record 463 | khani\n",
      "City not found. Skipping.\n",
      " Processing Record 464 | zabid\n",
      " Processing Record 465 | mersing\n",
      " Processing Record 466 | kilembe\n",
      " Processing Record 467 | general roca\n",
      " Processing Record 468 | carnduff\n",
      " Processing Record 469 | lalupon\n",
      " Processing Record 470 | warri\n",
      " Processing Record 471 | uribia\n",
      " Processing Record 472 | regina\n",
      " Processing Record 473 | trelew\n",
      " Processing Record 474 | kahului\n",
      " Processing Record 475 | kyabe\n",
      " Processing Record 476 | igrim\n",
      " Processing Record 477 | viedma\n",
      " Processing Record 478 | astorga\n",
      " Processing Record 479 | shizunai\n",
      " Processing Record 480 | murgab\n",
      " Processing Record 481 | pinotepa nacional\n",
      " Processing Record 482 | quibdo\n",
      " Processing Record 483 | chernyshevskiy\n",
      " Processing Record 484 | zdvinsk\n",
      " Processing Record 485 | uchiza\n",
      " Processing Record 486 | nathdwara\n",
      " Processing Record 487 | kirovskiy\n",
      " Processing Record 488 | nishihara\n",
      " Processing Record 489 | porbandar\n",
      " Processing Record 490 | porto novo\n",
      "City not found. Skipping.\n",
      " Processing Record 491 | odweyne\n",
      "City not found. Skipping.\n",
      " Processing Record 492 | opuwo\n",
      " Processing Record 493 | hinganghat\n",
      " Processing Record 494 | ahipara\n",
      " Processing Record 495 | okhotsk\n",
      " Processing Record 496 | neka\n",
      " Processing Record 497 | riohacha\n",
      " Processing Record 498 | buala\n",
      " Processing Record 499 | santa maria ixhuatan\n",
      " Processing Record 500 | lesogorskiy\n",
      " Processing Record 501 | ust-maya\n",
      " Processing Record 502 | ntungamo\n",
      " Processing Record 503 | kamenka\n",
      " Processing Record 504 | sibolga\n",
      " Processing Record 505 | de aar\n",
      " Processing Record 506 | jangipur\n",
      " Processing Record 507 | port-gentil\n",
      " Processing Record 508 | port hedland\n",
      " Processing Record 509 | nianzishan\n",
      " Processing Record 510 | wawa\n",
      " Processing Record 511 | wasilla\n",
      " Processing Record 512 | itarema\n",
      " Processing Record 513 | alice springs\n",
      " Processing Record 514 | tessalit\n",
      " Processing Record 515 | dzilam gonzalez\n",
      " Processing Record 516 | zhuhai\n",
      " Processing Record 517 | udachnyy\n",
      " Processing Record 518 | chubbuck\n",
      " Processing Record 519 | batticaloa\n",
      " Processing Record 520 | lasa\n",
      " Processing Record 521 | manono\n",
      " Processing Record 522 | sapucai\n",
      " Processing Record 523 | colares\n",
      "City not found. Skipping.\n",
      " Processing Record 524 | port hardy\n",
      " Processing Record 525 | natal\n",
      " Processing Record 526 | olafsvik\n",
      " Processing Record 527 | ise\n",
      " Processing Record 528 | namsos\n",
      " Processing Record 529 | seminole\n",
      " Processing Record 530 | perth\n",
      " Processing Record 531 | beya\n",
      " Processing Record 532 | saint-pierre\n",
      " Processing Record 533 | palana\n",
      " Processing Record 534 | agirish\n",
      " Processing Record 535 | sola\n",
      " Processing Record 536 | vegachi\n",
      " Processing Record 537 | paamiut\n",
      " Processing Record 538 | imeni poliny osipenko\n",
      " Processing Record 539 | karratha\n",
      " Processing Record 540 | jishou\n",
      " Processing Record 541 | boffa\n",
      " Processing Record 542 | maceio\n",
      "City not found. Skipping.\n",
      " Processing Record 543 | halifax\n",
      " Processing Record 544 | umarkot\n",
      " Processing Record 545 | havelock\n",
      "City not found. Skipping.\n",
      " Processing Record 546 | puerto madero\n",
      " Processing Record 547 | neyvo-shaytanskiy\n",
      " Processing Record 548 | raudeberg\n",
      " Processing Record 549 | langham\n",
      " Processing Record 550 | qaqortoq\n",
      " Processing Record 551 | mitsamiouli\n",
      " Processing Record 552 | bairiki\n",
      " Processing Record 553 | allingabro\n",
      " Processing Record 554 | benjamin constant\n",
      " Processing Record 555 | shurugwi\n",
      " Processing Record 556 | khrebtovaya\n",
      " Processing Record 557 | honiara\n",
      " Processing Record 558 | ati\n",
      "City not found. Skipping.\n",
      " Processing Record 559 | hamilton\n",
      " Processing Record 560 | gotsu\n",
      " Processing Record 561 | koulikoro\n"
     ]
    }
   ],
   "source": [
    "# set up lists to hold reponse info\n",
    "lat = []\n",
    "lon = []\n",
    "max_temp = []\n",
    "hum = []\n",
    "cloud = []\n",
    "wspeed = []\n",
    "country = []\n",
    "date = []\n",
    "\n",
    "\n",
    "#counter\n",
    "counter = 0\n",
    "\n",
    "# Loop through the list of cities and perform a request for data on each\n",
    "for city in cities:\n",
    "    # Create search query, make request and store in json\n",
    "    query = query_url + city\n",
    "    response = requests.get(query)\n",
    "    response_json = response.json()   \n",
    "    \n",
    "    try:\n",
    "        lat.append(response_json['coord']['lat'])\n",
    "        lon.append(response_json['coord']['lon'])\n",
    "        max_temp.append(response_json['main']['temp_max'])\n",
    "        hum.append(response_json['main']['humidity'])\n",
    "        cloud.append(response_json['clouds']['all'])\n",
    "        wspeed.append(response_json['wind']['speed'])\n",
    "        country.append(response_json['sys']['country'])\n",
    "        date.append(response_json['dt'])\n",
    "        counter = counter + 1\n",
    "        print(f\" Processing Record {counter} | {city}\")\n",
    "        \n",
    "    except:\n",
    "        # Append null values\n",
    "        print(\"City not found. Skipping.\")\n",
    "        pass"
   ]
  },
  {
   "cell_type": "markdown",
   "metadata": {},
   "source": [
    "### Convert Raw Data to DataFrame\n",
    "* Export the city data into a .csv.\n",
    "* Display the DataFrame"
   ]
  },
  {
   "cell_type": "code",
   "execution_count": 15,
   "metadata": {},
   "outputs": [],
   "source": [
    "# Create DF\n",
    "# ValueError: arrays must all be same length\n",
    "\n",
    "weather_df = pd.DataFrame.from_dict({\n",
    "    \"City\": cities,\n",
    "    \"Lat\": lat,\n",
    "    \"Lng\": lon,\n",
    "    \"Max_Temp\": max_temp,\n",
    "    \"Humidity\": hum,\n",
    "    \"Cloudiness\": cloud,\n",
    "    \"Wind_speed\": wspeed,\n",
    "    \"Country\": country,\n",
    "    \"Date\": date\n",
    "}, orient='index')\n",
    "\n",
    "#weather_df.transpose()\n",
    "transposed_df = weather_df.transpose()\n",
    "# solution found here: https://stackoverflow.com/questions/40442014/python-pandas-valueerror-arrays-must-be-all-same-length"
   ]
  },
  {
   "cell_type": "code",
   "execution_count": 16,
   "metadata": {},
   "outputs": [
    {
     "data": {
      "text/plain": [
       "City          616\n",
       "Lat           561\n",
       "Lng           561\n",
       "Max_Temp      561\n",
       "Humidity      561\n",
       "Cloudiness    561\n",
       "Wind_speed    561\n",
       "Country       561\n",
       "Date          561\n",
       "dtype: int64"
      ]
     },
     "execution_count": 16,
     "metadata": {},
     "output_type": "execute_result"
    }
   ],
   "source": [
    "# count data\n",
    "transposed_df.count()"
   ]
  },
  {
   "cell_type": "code",
   "execution_count": 17,
   "metadata": {},
   "outputs": [
    {
     "data": {
      "text/plain": [
       "City          561\n",
       "Lat           561\n",
       "Lng           561\n",
       "Max_Temp      561\n",
       "Humidity      561\n",
       "Cloudiness    561\n",
       "Wind_speed    561\n",
       "Country       561\n",
       "Date          561\n",
       "dtype: int64"
      ]
     },
     "execution_count": 17,
     "metadata": {},
     "output_type": "execute_result"
    }
   ],
   "source": [
    "# get rid of 'none' values - city outnumbers rest of data\n",
    "cleaned_weather_df = transposed_df.dropna()\n",
    "# check in count\n",
    "cleaned_weather_df.count()"
   ]
  },
  {
   "cell_type": "code",
   "execution_count": 18,
   "metadata": {},
   "outputs": [
    {
     "data": {
      "text/html": [
       "<div>\n",
       "<style scoped>\n",
       "    .dataframe tbody tr th:only-of-type {\n",
       "        vertical-align: middle;\n",
       "    }\n",
       "\n",
       "    .dataframe tbody tr th {\n",
       "        vertical-align: top;\n",
       "    }\n",
       "\n",
       "    .dataframe thead th {\n",
       "        text-align: right;\n",
       "    }\n",
       "</style>\n",
       "<table border=\"1\" class=\"dataframe\">\n",
       "  <thead>\n",
       "    <tr style=\"text-align: right;\">\n",
       "      <th></th>\n",
       "      <th>City</th>\n",
       "      <th>Lat</th>\n",
       "      <th>Lng</th>\n",
       "      <th>Max_Temp</th>\n",
       "      <th>Humidity</th>\n",
       "      <th>Cloudiness</th>\n",
       "      <th>Wind_speed</th>\n",
       "      <th>Country</th>\n",
       "      <th>Date</th>\n",
       "    </tr>\n",
       "  </thead>\n",
       "  <tbody>\n",
       "    <tr>\n",
       "      <th>0</th>\n",
       "      <td>rikitea</td>\n",
       "      <td>-23.12</td>\n",
       "      <td>-134.97</td>\n",
       "      <td>72.9</td>\n",
       "      <td>90</td>\n",
       "      <td>96</td>\n",
       "      <td>12.01</td>\n",
       "      <td>PF</td>\n",
       "      <td>1596609330</td>\n",
       "    </tr>\n",
       "    <tr>\n",
       "      <th>1</th>\n",
       "      <td>saint-philippe</td>\n",
       "      <td>-21.36</td>\n",
       "      <td>55.77</td>\n",
       "      <td>72</td>\n",
       "      <td>64</td>\n",
       "      <td>47</td>\n",
       "      <td>13.87</td>\n",
       "      <td>RE</td>\n",
       "      <td>1596609330</td>\n",
       "    </tr>\n",
       "    <tr>\n",
       "      <th>2</th>\n",
       "      <td>taolanaro</td>\n",
       "      <td>62.46</td>\n",
       "      <td>-114.35</td>\n",
       "      <td>59</td>\n",
       "      <td>100</td>\n",
       "      <td>75</td>\n",
       "      <td>9.17</td>\n",
       "      <td>CA</td>\n",
       "      <td>1596609092</td>\n",
       "    </tr>\n",
       "    <tr>\n",
       "      <th>3</th>\n",
       "      <td>yellowknife</td>\n",
       "      <td>-18.37</td>\n",
       "      <td>-66.97</td>\n",
       "      <td>36.52</td>\n",
       "      <td>77</td>\n",
       "      <td>0</td>\n",
       "      <td>2.82</td>\n",
       "      <td>BO</td>\n",
       "      <td>1596609331</td>\n",
       "    </tr>\n",
       "    <tr>\n",
       "      <th>4</th>\n",
       "      <td>poopo</td>\n",
       "      <td>-38</td>\n",
       "      <td>-57.56</td>\n",
       "      <td>60.01</td>\n",
       "      <td>100</td>\n",
       "      <td>100</td>\n",
       "      <td>3.36</td>\n",
       "      <td>AR</td>\n",
       "      <td>1596609032</td>\n",
       "    </tr>\n",
       "  </tbody>\n",
       "</table>\n",
       "</div>"
      ],
      "text/plain": [
       "             City    Lat     Lng Max_Temp Humidity Cloudiness Wind_speed  \\\n",
       "0         rikitea -23.12 -134.97     72.9       90         96      12.01   \n",
       "1  saint-philippe -21.36   55.77       72       64         47      13.87   \n",
       "2       taolanaro  62.46 -114.35       59      100         75       9.17   \n",
       "3     yellowknife -18.37  -66.97    36.52       77          0       2.82   \n",
       "4           poopo    -38  -57.56    60.01      100        100       3.36   \n",
       "\n",
       "  Country        Date  \n",
       "0      PF  1596609330  \n",
       "1      RE  1596609330  \n",
       "2      CA  1596609092  \n",
       "3      BO  1596609331  \n",
       "4      AR  1596609032  "
      ]
     },
     "execution_count": 18,
     "metadata": {},
     "output_type": "execute_result"
    }
   ],
   "source": [
    "cleaned_weather_df.head()"
   ]
  },
  {
   "cell_type": "code",
   "execution_count": 19,
   "metadata": {},
   "outputs": [],
   "source": [
    "# export csv\n",
    "cleaned_weather_df.to_csv(output_data_file)"
   ]
  },
  {
   "cell_type": "markdown",
   "metadata": {},
   "source": [
    "## Inspect the data and remove the cities where the humidity > 100%.\n",
    "----\n",
    "Skip this step if there are no cities that have humidity > 100%. "
   ]
  },
  {
   "cell_type": "code",
   "execution_count": 21,
   "metadata": {},
   "outputs": [],
   "source": [
    "# locate humidity outliers\n",
    "humid_outliers = cleaned_weather_df.loc[cleaned_weather_df['Humidity'] > 100]"
   ]
  },
  {
   "cell_type": "code",
   "execution_count": null,
   "metadata": {},
   "outputs": [],
   "source": [
    "# no outliers "
   ]
  },
  {
   "cell_type": "markdown",
   "metadata": {},
   "source": [
    "## Plotting the Data\n",
    "* Use proper labeling of the plots using plot titles (including date of analysis) and axes labels.\n",
    "* Save the plotted figures as .pngs."
   ]
  },
  {
   "cell_type": "markdown",
   "metadata": {},
   "source": [
    "## Latitude vs. Temperature Plot"
   ]
  },
  {
   "cell_type": "code",
   "execution_count": 27,
   "metadata": {
    "scrolled": true
   },
   "outputs": [
    {
     "data": {
      "image/png": "[encoded data removed]",
      "text/plain": [
       "<Figure size 432x288 with 1 Axes>"
      ]
     },
     "metadata": {
      "needs_background": "light"
     },
     "output_type": "display_data"
    },
    {
     "data": {
      "text/plain": [
       "<Figure size 864x432 with 0 Axes>"
      ]
     },
     "metadata": {},
     "output_type": "display_data"
    }
   ],
   "source": [
    "# Create Latitude vs. Temperature Plot scatter plot\n",
    "plt.scatter(cleaned_weather_df[\"Lat\"], cleaned_weather_df[\"Max_Temp\"], color = \"tab:blue\", alpha=0.5)\n",
    "\n",
    "# Titles\n",
    "plt.title(\"City Latitude vs. Maximum Temperature (08/04/2020)\", fontweight = \"black\")\n",
    "plt.ylabel(\"Maximum Temperature (F)\")\n",
    "plt.xlabel(\"Latitude\")\n",
    "\n",
    "# formatting\n",
    "plt.figure(figsize=(12,6))\n",
    "\n",
    "# save figure\n",
    "plt.savefig('../output_data/CityLatVsMaxTemp.png')\n",
    "plt.show()"
   ]
  },
  {
   "cell_type": "markdown",
   "metadata": {},
   "source": [
    "## Latitude vs. Humidity Plot"
   ]
  },
  {
   "cell_type": "code",
   "execution_count": 29,
   "metadata": {},
   "outputs": [
    {
     "data": {
      "image/png": "[encoded data removed]",
      "text/plain": [
       "<Figure size 432x288 with 1 Axes>"
      ]
     },
     "metadata": {
      "needs_background": "light"
     },
     "output_type": "display_data"
    },
    {
     "data": {
      "text/plain": [
       "<Figure size 864x432 with 0 Axes>"
      ]
     },
     "metadata": {},
     "output_type": "display_data"
    }
   ],
   "source": [
    "# Create Latitude vs. Temperature Plot scatter plot\n",
    "plt.scatter(cleaned_weather_df[\"Lat\"], cleaned_weather_df[\"Humidity\"], color = \"tab:purple\", alpha=0.5)\n",
    "\n",
    "# Titles\n",
    "plt.title(\"City Latitude vs. Humidity (08/04/2020)\", fontweight = \"black\")\n",
    "plt.ylabel(\"Humidity (%)\")\n",
    "plt.xlabel(\"Latitude\")\n",
    "\n",
    "# formatting\n",
    "plt.figure(figsize=(12,6))\n",
    "\n",
    "# save figure\n",
    "plt.savefig('../output_data/CityLatVsHumidity.png')\n",
    "plt.show()"
   ]
  },
  {
   "cell_type": "markdown",
   "metadata": {},
   "source": [
    "## Latitude vs. Cloudiness Plot"
   ]
  },
  {
   "cell_type": "code",
   "execution_count": 31,
   "metadata": {},
   "outputs": [
    {
     "data": {
      "image/png": "[encoded data removed]",
      "text/plain": [
       "<Figure size 432x288 with 1 Axes>"
      ]
     },
     "metadata": {
      "needs_background": "light"
     },
     "output_type": "display_data"
    },
    {
     "data": {
      "text/plain": [
       "<Figure size 864x432 with 0 Axes>"
      ]
     },
     "metadata": {},
     "output_type": "display_data"
    }
   ],
   "source": [
    "# Create Latitude vs. Temperature Plot scatter plot\n",
    "plt.scatter(cleaned_weather_df[\"Lat\"], cleaned_weather_df[\"Cloudiness\"], color = \"tab:blue\", alpha=0.5)\n",
    "\n",
    "# Titles\n",
    "plt.title(\"City Latitude vs. Cloudiness (08/04/2020)\", fontweight = \"black\")\n",
    "plt.ylabel(\"Cloudiness (%)\")\n",
    "plt.xlabel(\"Latitude\")\n",
    "\n",
    "# formatting\n",
    "plt.figure(figsize=(12,6))\n",
    "\n",
    "# save figure\n",
    "plt.savefig('../output_data/CityLatVsCloudiness.png')\n",
    "plt.show()"
   ]
  },
  {
   "cell_type": "markdown",
   "metadata": {},
   "source": [
    "## Latitude vs. Wind Speed Plot"
   ]
  },
  {
   "cell_type": "code",
   "execution_count": 34,
   "metadata": {},
   "outputs": [
    {
     "data": {
      "image/png": "[encoded data removed]",
      "text/plain": [
       "<Figure size 432x288 with 1 Axes>"
      ]
     },
     "metadata": {
      "needs_background": "light"
     },
     "output_type": "display_data"
    },
    {
     "data": {
      "text/plain": [
       "<Figure size 864x432 with 0 Axes>"
      ]
     },
     "metadata": {},
     "output_type": "display_data"
    }
   ],
   "source": [
    "# Create Latitude vs. Temperature Plot scatter plot\n",
    "plt.scatter(cleaned_weather_df[\"Lat\"], cleaned_weather_df[\"Wind_speed\"], color = \"tab:orange\", alpha=0.5)\n",
    "\n",
    "# Titles\n",
    "plt.title(\"City Latitude vs. Wind Speed (mph) (08/04/2020)\", fontweight = \"black\")\n",
    "plt.ylabel(\"Wind Speed (mph)\")\n",
    "plt.xlabel(\"Latitude\")\n",
    "\n",
    "# formatting\n",
    "plt.figure(figsize=(12,6))\n",
    "\n",
    "# save figure\n",
    "plt.savefig('../output_data/CityLatVsWindSpeed.png')\n",
    "plt.show()"
   ]
  },
  {
   "cell_type": "markdown",
   "metadata": {},
   "source": [
    "## Linear Regression"
   ]
  },
  {
   "cell_type": "code",
   "execution_count": 61,
   "metadata": {},
   "outputs": [],
   "source": [
    "# OPTIONAL: Create a function to create Linear Regression plots\n"
   ]
  },
  {
   "cell_type": "code",
   "execution_count": 58,
   "metadata": {},
   "outputs": [],
   "source": [
    "# Create Northern and Southern Hemisphere DataFrames\n",
    "north_hem = cleaned_weather_df.loc[(cleaned_weather_df[\"Lat\"] >= 0) & (cleaned_weather_df[\"Lat\"] <= 90)]\n",
    "\n",
    "south_hem = cleaned_weather_df.loc[(cleaned_weather_df[\"Lat\"] >= -90) & (cleaned_weather_df[\"Lat\"] <= 0)]\n"
   ]
  },
  {
   "cell_type": "markdown",
   "metadata": {},
   "source": [
    "####  Northern Hemisphere - Max Temp vs. Latitude Linear Regression"
   ]
  },
  {
   "cell_type": "code",
   "execution_count": 1,
   "metadata": {},
   "outputs": [],
   "source": [
    "#AttributeError: 'float' object has no attribute 'shape'\n",
    "# x_values = north_hem[\"Lat\"]\n",
    "# y_values = north_hem[\"Max_Temp\"]\n",
    "# (slope, intercept, rvalue, pvalue, stderr) = linregress(x_values, y_values)\n",
    "# regress_values = x_values * slope + intercept\n",
    "# line_eq = \"y = \" + str(round(slope,2)) + \"x + \" + str(round(intercept,2))\n",
    "# plt.scatter(x_values,y_values)\n",
    "# plt.plot(x_values,regress_values,\"r-\")\n",
    "# plt.annotate(line_eq,(6,45),fontsize=15,color=\"red\")\n",
    "# plt.title(\"Max Temp Relative to Latitude in Northern Hemisphere Cities (8/03/2020)\")\n",
    "# plt.xlabel(\"Latitude\")\n",
    "# plt.ylabel(\"Max Temperature (F)\")\n",
    "# plt.grid(True)\n",
    "# print(f\"The r-squared is: {rvalue**2}\")\n",
    "# plt.show()"
   ]
  },
  {
   "cell_type": "markdown",
   "metadata": {},
   "source": [
    "####  Southern Hemisphere - Max Temp vs. Latitude Linear Regression"
   ]
  },
  {
   "cell_type": "code",
   "execution_count": null,
   "metadata": {},
   "outputs": [],
   "source": []
  },
  {
   "cell_type": "markdown",
   "metadata": {},
   "source": [
    "####  Northern Hemisphere - Humidity (%) vs. Latitude Linear Regression"
   ]
  },
  {
   "cell_type": "code",
   "execution_count": null,
   "metadata": {},
   "outputs": [],
   "source": []
  },
  {
   "cell_type": "markdown",
   "metadata": {},
   "source": [
    "####  Southern Hemisphere - Humidity (%) vs. Latitude Linear Regression"
   ]
  },
  {
   "cell_type": "code",
   "execution_count": null,
   "metadata": {},
   "outputs": [],
   "source": []
  },
  {
   "cell_type": "markdown",
   "metadata": {},
   "source": [
    "####  Northern Hemisphere - Cloudiness (%) vs. Latitude Linear Regression"
   ]
  },
  {
   "cell_type": "code",
   "execution_count": null,
   "metadata": {},
   "outputs": [],
   "source": []
  },
  {
   "cell_type": "markdown",
   "metadata": {},
   "source": [
    "####  Southern Hemisphere - Cloudiness (%) vs. Latitude Linear Regression"
   ]
  },
  {
   "cell_type": "code",
   "execution_count": null,
   "metadata": {},
   "outputs": [],
   "source": []
  },
  {
   "cell_type": "markdown",
   "metadata": {},
   "source": [
    "####  Northern Hemisphere - Wind Speed (mph) vs. Latitude Linear Regression"
   ]
  },
  {
   "cell_type": "code",
   "execution_count": null,
   "metadata": {},
   "outputs": [],
   "source": []
  },
  {
   "cell_type": "markdown",
   "metadata": {},
   "source": [
    "####  Southern Hemisphere - Wind Speed (mph) vs. Latitude Linear Regression"
   ]
  },
  {
   "cell_type": "code",
   "execution_count": null,
   "metadata": {},
   "outputs": [],
   "source": []
  },
  {
   "cell_type": "code",
   "execution_count": null,
   "metadata": {},
   "outputs": [],
   "source": []
  }
 ],
 "metadata": {
  "anaconda-cloud": {},
  "kernel_info": {
   "name": "python3"
  },
  "kernelspec": {
   "display_name": "Python 3",
   "language": "python",
   "name": "python3"
  },
  "language_info": {
   "codemirror_mode": {
    "name": "ipython",
    "version": 3
   },
   "file_extension": ".py",
   "mimetype": "text/x-python",
   "name": "python",
   "nbconvert_exporter": "python",
   "pygments_lexer": "ipython3",
   "version": "3.6.10"
  },
  "latex_envs": {
   "LaTeX_envs_menu_present": true,
   "autoclose": false,
   "autocomplete": true,
   "bibliofile": "biblio.bib",
   "cite_by": "apalike",
   "current_citInitial": 1,
   "eqLabelWithNumbers": true,
   "eqNumInitial": 1,
   "hotkeys": {
    "equation": "Ctrl-E",
    "itemize": "Ctrl-I"
   },
   "labels_anchors": false,
   "latex_user_defs": false,
   "report_style_numbering": false,
   "user_envs_cfg": false
  },
  "nteract": {
   "version": "0.12.3"
  }
 },
 "nbformat": 4,
 "nbformat_minor": 2
}
