{
 "cells": [
  {
   "cell_type": "markdown",
   "metadata": {},
   "source": [
    "# WeatherPy\n",
    "----\n",
    "\n",
    "#### Note\n",
    "* Instructions have been included for each segment. You do not have to follow them exactly, but they are included to help you think through the steps."
   ]
  },
  {
   "cell_type": "code",
   "execution_count": 1,
   "metadata": {
    "scrolled": true
   },
   "outputs": [],
   "source": [
    "# Dependencies and Setup\n",
    "import matplotlib.pyplot as plt\n",
    "import pandas as pd\n",
    "import numpy as np\n",
    "import requests\n",
    "import time\n",
    "import json\n",
    "import scipy.stats as st\n",
    "from scipy.stats import linregress\n",
    "\n",
    "# Import API key\n",
    "from config import weather_api_key\n",
    "\n",
    "# Incorporated citipy to determine city based on latitude and longitude\n",
    "from citipy import citipy\n",
    "\n",
    "# Output File (CSV)\n",
    "output_data_file = \"output_data/cities.csv\"\n",
    "\n",
    "# Range of latitudes and longitudes\n",
    "lat_range = (-90, 90)\n",
    "lng_range = (-180, 180)"
   ]
  },
  {
   "cell_type": "markdown",
   "metadata": {},
   "source": [
    "## Generate Cities List"
   ]
  },
  {
   "cell_type": "code",
   "execution_count": 3,
   "metadata": {},
   "outputs": [
    {
     "data": {
      "text/plain": [
       "623"
      ]
     },
     "execution_count": 3,
     "metadata": {},
     "output_type": "execute_result"
    }
   ],
   "source": [
    "# List for holding lat_lngs and cities\n",
    "lat_lngs = []\n",
    "cities = []\n",
    "\n",
    "# Create a set of random lat and lng combinations\n",
    "lats = np.random.uniform(lat_range[0], lat_range[1], size=1500)\n",
    "lngs = np.random.uniform(lng_range[0], lng_range[1], size=1500)\n",
    "lat_lngs = zip(lats, lngs)\n",
    "\n",
    "# Identify nearest city for each lat, lng combination\n",
    "for lat_lng in lat_lngs:\n",
    "    city = citipy.nearest_city(lat_lng[0], lat_lng[1]).city_name\n",
    "    \n",
    "    # If the city is unique, then add it to a our cities list\n",
    "    if city not in cities:\n",
    "        cities.append(city)\n",
    "\n",
    "# Print the city count to confirm sufficient count\n",
    "len(cities)"
   ]
  },
  {
   "cell_type": "markdown",
   "metadata": {},
   "source": [
    "### Perform API Calls  --- Look at the file on GitLab for example!\n",
    "* Perform a weather check on each city using a series of successive API calls.\n",
    "* Include a print log of each city as it'sbeing processed (with the city number and city name).\n"
   ]
  },
  {
   "cell_type": "code",
   "execution_count": 4,
   "metadata": {},
   "outputs": [],
   "source": [
    "# # Save config information.\n",
    "url = \"http://api.openweathermap.org/data/2.5/weather?\"\n",
    "units = \"imperial\"\n",
    "\n",
    "# # # Build partial query URL\n",
    "query_url = f\"{url}appid={weather_api_key}&units={units}&q=\""
   ]
  },
  {
   "cell_type": "code",
   "execution_count": 5,
   "metadata": {},
   "outputs": [
    {
     "name": "stdout",
     "output_type": "stream",
     "text": [
      " Processing Record 1 | arraial do cabo\n",
      " Processing Record 2 | barrow\n",
      " Processing Record 3 | vestmannaeyjar\n",
      " Processing Record 4 | tarija\n",
      " Processing Record 5 | new norfolk\n",
      " Processing Record 6 | tuktoyaktuk\n",
      " Processing Record 7 | mount darwin\n",
      " Processing Record 8 | puerto madryn\n",
      " Processing Record 9 | hamilton\n",
      "City not found. Skipping.\n",
      " Processing Record 10 | ambo\n",
      " Processing Record 11 | chokurdakh\n",
      " Processing Record 12 | sayat\n",
      " Processing Record 13 | vaini\n",
      " Processing Record 14 | lagos\n",
      " Processing Record 15 | yakeshi\n",
      " Processing Record 16 | margate\n",
      "City not found. Skipping.\n",
      "City not found. Skipping.\n",
      " Processing Record 17 | butaritari\n",
      " Processing Record 18 | rikitea\n",
      " Processing Record 19 | mataura\n",
      " Processing Record 20 | carnarvon\n",
      " Processing Record 21 | ushuaia\n",
      " Processing Record 22 | lodja\n",
      " Processing Record 23 | komsomolskiy\n",
      " Processing Record 24 | presidente franco\n",
      " Processing Record 25 | vao\n",
      " Processing Record 26 | tura\n",
      " Processing Record 27 | gangakher\n",
      " Processing Record 28 | inverness\n",
      " Processing Record 29 | anadyr\n",
      " Processing Record 30 | puerto ayora\n",
      "City not found. Skipping.\n",
      " Processing Record 31 | roald\n",
      " Processing Record 32 | luba\n",
      " Processing Record 33 | lompoc\n",
      " Processing Record 34 | hermanus\n",
      " Processing Record 35 | bredasdorp\n",
      " Processing Record 36 | derzhavinsk\n",
      " Processing Record 37 | namatanai\n",
      " Processing Record 38 | atuona\n",
      " Processing Record 39 | noumea\n",
      " Processing Record 40 | ambon\n",
      " Processing Record 41 | srednekolymsk\n",
      " Processing Record 42 | sakakah\n",
      " Processing Record 43 | pascagoula\n",
      " Processing Record 44 | punta arenas\n",
      " Processing Record 45 | hilo\n",
      " Processing Record 46 | hearst\n",
      " Processing Record 47 | palmer\n",
      "City not found. Skipping.\n",
      "City not found. Skipping.\n",
      " Processing Record 48 | tual\n",
      " Processing Record 49 | yulara\n",
      " Processing Record 50 | bethel\n",
      " Processing Record 51 | victoria\n",
      " Processing Record 52 | touros\n",
      " Processing Record 53 | nanortalik\n",
      "City not found. Skipping.\n",
      " Processing Record 54 | yellowknife\n",
      " Processing Record 55 | nome\n",
      "City not found. Skipping.\n",
      " Processing Record 56 | marsaxlokk\n",
      " Processing Record 57 | sao gabriel da cachoeira\n",
      " Processing Record 58 | mabaruma\n",
      "City not found. Skipping.\n",
      " Processing Record 59 | sisimiut\n",
      " Processing Record 60 | cabo san lucas\n",
      "City not found. Skipping.\n",
      " Processing Record 61 | port hardy\n",
      " Processing Record 62 | awbari\n",
      " Processing Record 63 | blackwater\n",
      " Processing Record 64 | fortuna\n",
      "City not found. Skipping.\n",
      " Processing Record 65 | mitsamiouli\n",
      " Processing Record 66 | laguna\n",
      " Processing Record 67 | arvika\n",
      " Processing Record 68 | kapaa\n",
      " Processing Record 69 | port alfred\n",
      " Processing Record 70 | thompson\n",
      " Processing Record 71 | kiruna\n",
      " Processing Record 72 | sao joao da barra\n",
      " Processing Record 73 | hambantota\n",
      " Processing Record 74 | cape town\n",
      " Processing Record 75 | pangai\n",
      " Processing Record 76 | bluff\n",
      " Processing Record 77 | sicamous\n",
      " Processing Record 78 | lagoa\n",
      " Processing Record 79 | busselton\n",
      " Processing Record 80 | mulanje\n",
      " Processing Record 81 | prince rupert\n",
      " Processing Record 82 | xingyi\n",
      " Processing Record 83 | mar del plata\n",
      "City not found. Skipping.\n",
      " Processing Record 84 | jamestown\n",
      " Processing Record 85 | seoul\n",
      " Processing Record 86 | nikolskoye\n",
      " Processing Record 87 | hobart\n",
      " Processing Record 88 | beloha\n",
      " Processing Record 89 | leh\n",
      "City not found. Skipping.\n",
      " Processing Record 90 | praia da vitoria\n",
      " Processing Record 91 | albany\n",
      " Processing Record 92 | tasiilaq\n",
      "City not found. Skipping.\n",
      " Processing Record 93 | constitucion\n",
      " Processing Record 94 | kefamenanu\n",
      " Processing Record 95 | kenora\n",
      " Processing Record 96 | bandar-e anzali\n",
      " Processing Record 97 | iquitos\n",
      " Processing Record 98 | karratha\n",
      " Processing Record 99 | aswan\n",
      " Processing Record 100 | dikson\n",
      " Processing Record 101 | caravelas\n",
      " Processing Record 102 | pevek\n",
      " Processing Record 103 | hithadhoo\n",
      " Processing Record 104 | arklow\n",
      " Processing Record 105 | saint-philippe\n",
      " Processing Record 106 | ketchikan\n",
      " Processing Record 107 | tucuman\n",
      " Processing Record 108 | saint anthony\n",
      " Processing Record 109 | lasa\n",
      " Processing Record 110 | sur\n",
      " Processing Record 111 | broome\n",
      " Processing Record 112 | saint george\n",
      " Processing Record 113 | itarema\n",
      " Processing Record 114 | homer\n",
      " Processing Record 115 | olecko\n",
      " Processing Record 116 | souillac\n",
      " Processing Record 117 | east london\n",
      " Processing Record 118 | hofn\n",
      "City not found. Skipping.\n",
      " Processing Record 119 | saskylakh\n",
      " Processing Record 120 | porto velho\n",
      " Processing Record 121 | sinnamary\n",
      " Processing Record 122 | lazaro cardenas\n",
      " Processing Record 123 | keuruu\n",
      " Processing Record 124 | krutinka\n",
      " Processing Record 125 | cherskiy\n",
      " Processing Record 126 | mahebourg\n",
      " Processing Record 127 | alice springs\n",
      " Processing Record 128 | narsaq\n",
      " Processing Record 129 | henties bay\n",
      "City not found. Skipping.\n",
      " Processing Record 130 | yingcheng\n",
      " Processing Record 131 | matagami\n",
      " Processing Record 132 | yar-sale\n",
      " Processing Record 133 | ilulissat\n",
      " Processing Record 134 | bengkulu\n",
      " Processing Record 135 | severo-kurilsk\n",
      " Processing Record 136 | belawan\n",
      "City not found. Skipping.\n",
      " Processing Record 137 | lata\n",
      " Processing Record 138 | strezhevoy\n",
      " Processing Record 139 | padang\n",
      " Processing Record 140 | moba\n",
      " Processing Record 141 | ribeira grande\n",
      "City not found. Skipping.\n",
      " Processing Record 142 | kysyl-syr\n",
      " Processing Record 143 | zhigalovo\n",
      " Processing Record 144 | bandarbeyla\n",
      " Processing Record 145 | khandyga\n",
      " Processing Record 146 | cockburn town\n",
      " Processing Record 147 | sakaiminato\n",
      " Processing Record 148 | shimoda\n",
      "City not found. Skipping.\n",
      " Processing Record 149 | qaanaaq\n",
      " Processing Record 150 | rodos\n",
      " Processing Record 151 | rayagada\n",
      " Processing Record 152 | manga\n",
      " Processing Record 153 | klaksvik\n",
      "City not found. Skipping.\n",
      " Processing Record 154 | zafra\n",
      " Processing Record 155 | hvolsvollur\n",
      " Processing Record 156 | kaitangata\n",
      " Processing Record 157 | jega\n",
      " Processing Record 158 | bathsheba\n",
      " Processing Record 159 | omsukchan\n",
      " Processing Record 160 | hegang\n",
      " Processing Record 161 | obzor\n",
      " Processing Record 162 | kiama\n",
      " Processing Record 163 | kahului\n",
      " Processing Record 164 | port lincoln\n",
      " Processing Record 165 | petropavlovsk-kamchatskiy\n",
      " Processing Record 166 | peruibe\n",
      " Processing Record 167 | alpena\n",
      " Processing Record 168 | along\n",
      " Processing Record 169 | comodoro rivadavia\n",
      " Processing Record 170 | nguruka\n",
      " Processing Record 171 | chuy\n",
      " Processing Record 172 | egvekinot\n",
      " Processing Record 173 | viedma\n",
      " Processing Record 174 | hanzhong\n",
      " Processing Record 175 | samarai\n",
      " Processing Record 176 | impfondo\n",
      " Processing Record 177 | nabire\n",
      "City not found. Skipping.\n",
      " Processing Record 178 | midland\n",
      " Processing Record 179 | tateyama\n",
      " Processing Record 180 | birjand\n",
      " Processing Record 181 | taltal\n",
      " Processing Record 182 | ponta do sol\n",
      " Processing Record 183 | provideniya\n",
      " Processing Record 184 | pozo colorado\n",
      " Processing Record 185 | ponta delgada\n",
      " Processing Record 186 | ixtapa\n",
      " Processing Record 187 | georgetown\n",
      "City not found. Skipping.\n",
      " Processing Record 188 | sola\n",
      " Processing Record 189 | catuday\n",
      " Processing Record 190 | asau\n",
      " Processing Record 191 | saint-louis\n",
      " Processing Record 192 | puerto leguizamo\n",
      "City not found. Skipping.\n",
      " Processing Record 193 | rio grande\n",
      " Processing Record 194 | tarauaca\n",
      " Processing Record 195 | aklavik\n",
      " Processing Record 196 | port blair\n",
      " Processing Record 197 | emerald\n",
      " Processing Record 198 | mount gambier\n",
      " Processing Record 199 | luanda\n",
      " Processing Record 200 | castro\n",
      " Processing Record 201 | talnakh\n",
      " Processing Record 202 | bentiu\n",
      " Processing Record 203 | mossendjo\n",
      " Processing Record 204 | khatanga\n",
      " Processing Record 205 | caucaia\n",
      " Processing Record 206 | ilmajoki\n",
      " Processing Record 207 | torbay\n",
      " Processing Record 208 | mandalgovi\n",
      " Processing Record 209 | coquimbo\n",
      " Processing Record 210 | taksimo\n",
      "City not found. Skipping.\n",
      " Processing Record 211 | georgiyevka\n",
      " Processing Record 212 | kharp\n",
      " Processing Record 213 | husavik\n",
      " Processing Record 214 | lamar\n",
      "City not found. Skipping.\n",
      " Processing Record 215 | mtwara\n",
      " Processing Record 216 | flinders\n",
      " Processing Record 217 | pitogo\n",
      " Processing Record 218 | rio gallegos\n",
      " Processing Record 219 | pafos\n",
      " Processing Record 220 | fukue\n",
      " Processing Record 221 | imeni poliny osipenko\n",
      " Processing Record 222 | clyde river\n",
      " Processing Record 223 | leshan\n"
     ]
    },
    {
     "name": "stdout",
     "output_type": "stream",
     "text": [
      "City not found. Skipping.\n",
      " Processing Record 224 | xining\n",
      " Processing Record 225 | martapura\n",
      " Processing Record 226 | biak\n",
      " Processing Record 227 | berlevag\n",
      " Processing Record 228 | auki\n",
      " Processing Record 229 | kwinana\n",
      " Processing Record 230 | kavieng\n",
      " Processing Record 231 | mehamn\n",
      " Processing Record 232 | grindavik\n",
      " Processing Record 233 | richards bay\n",
      " Processing Record 234 | crotone\n",
      " Processing Record 235 | lakselv\n",
      " Processing Record 236 | puerto narino\n",
      " Processing Record 237 | leningradskiy\n",
      " Processing Record 238 | upernavik\n",
      " Processing Record 239 | taldan\n",
      " Processing Record 240 | alghero\n",
      " Processing Record 241 | da nang\n",
      " Processing Record 242 | alma\n",
      " Processing Record 243 | avarua\n",
      " Processing Record 244 | joshimath\n",
      " Processing Record 245 | sabang\n",
      "City not found. Skipping.\n",
      " Processing Record 246 | port-cartier\n",
      " Processing Record 247 | ambilobe\n",
      " Processing Record 248 | deputatskiy\n",
      " Processing Record 249 | nanakuli\n",
      " Processing Record 250 | san vicente\n",
      " Processing Record 251 | sambava\n",
      " Processing Record 252 | bubaque\n",
      " Processing Record 253 | mahibadhoo\n",
      " Processing Record 254 | dharchula\n",
      " Processing Record 255 | soubre\n",
      " Processing Record 256 | pangnirtung\n",
      " Processing Record 257 | okhotsk\n",
      " Processing Record 258 | ylivieska\n",
      " Processing Record 259 | olkhovka\n",
      " Processing Record 260 | haikou\n",
      "City not found. Skipping.\n",
      " Processing Record 261 | mae sot\n",
      "City not found. Skipping.\n",
      " Processing Record 262 | salym\n",
      " Processing Record 263 | santa rosa\n",
      " Processing Record 264 | bereda\n",
      " Processing Record 265 | ajdabiya\n",
      " Processing Record 266 | iqaluit\n",
      " Processing Record 267 | longyearbyen\n",
      " Processing Record 268 | ulaanbaatar\n",
      " Processing Record 269 | ullapool\n",
      " Processing Record 270 | sitka\n",
      " Processing Record 271 | mkushi\n",
      " Processing Record 272 | nalut\n",
      " Processing Record 273 | taitung\n",
      " Processing Record 274 | lixourion\n",
      " Processing Record 275 | amontada\n",
      "City not found. Skipping.\n",
      " Processing Record 276 | vostok\n",
      " Processing Record 277 | gayny\n",
      " Processing Record 278 | pimentel\n",
      " Processing Record 279 | san jose\n",
      " Processing Record 280 | abonnema\n",
      " Processing Record 281 | faanui\n",
      " Processing Record 282 | nelson bay\n",
      " Processing Record 283 | atar\n",
      " Processing Record 284 | kodiak\n",
      " Processing Record 285 | junin\n",
      " Processing Record 286 | acari\n",
      " Processing Record 287 | bambous virieux\n",
      " Processing Record 288 | balabac\n",
      " Processing Record 289 | juneau\n",
      " Processing Record 290 | northam\n",
      " Processing Record 291 | yuxia\n",
      " Processing Record 292 | north platte\n",
      " Processing Record 293 | lavrentiya\n",
      " Processing Record 294 | dingle\n",
      " Processing Record 295 | bonthe\n",
      " Processing Record 296 | urusha\n",
      " Processing Record 297 | airai\n",
      " Processing Record 298 | isla mujeres\n",
      " Processing Record 299 | davila\n",
      " Processing Record 300 | zaltan\n",
      " Processing Record 301 | balestrand\n",
      " Processing Record 302 | wanning\n",
      " Processing Record 303 | kitimat\n",
      " Processing Record 304 | bereznik\n",
      " Processing Record 305 | banda aceh\n",
      " Processing Record 306 | saldanha\n",
      " Processing Record 307 | ingham\n",
      " Processing Record 308 | moree\n",
      " Processing Record 309 | ilek\n",
      " Processing Record 310 | stolin\n",
      " Processing Record 311 | yaan\n",
      " Processing Record 312 | hasaki\n",
      "City not found. Skipping.\n",
      " Processing Record 313 | sidney\n",
      " Processing Record 314 | sorland\n",
      " Processing Record 315 | itaituba\n",
      " Processing Record 316 | tautira\n",
      " Processing Record 317 | jiangyou\n",
      " Processing Record 318 | camargo\n",
      " Processing Record 319 | paslek\n",
      " Processing Record 320 | pisco\n",
      " Processing Record 321 | mount isa\n",
      " Processing Record 322 | san patricio\n",
      " Processing Record 323 | saint-francois\n",
      " Processing Record 324 | port elizabeth\n",
      " Processing Record 325 | champerico\n",
      " Processing Record 326 | bundaberg\n",
      " Processing Record 327 | vila velha\n",
      " Processing Record 328 | high rock\n",
      "City not found. Skipping.\n",
      " Processing Record 329 | plettenberg bay\n",
      " Processing Record 330 | asfi\n",
      " Processing Record 331 | hays\n",
      " Processing Record 332 | burgeo\n",
      " Processing Record 333 | sao filipe\n",
      " Processing Record 334 | gdynia\n",
      " Processing Record 335 | gorgan\n",
      " Processing Record 336 | loubomo\n",
      " Processing Record 337 | morondava\n",
      " Processing Record 338 | pacific grove\n",
      " Processing Record 339 | puri\n",
      "City not found. Skipping.\n",
      " Processing Record 340 | san quintin\n",
      " Processing Record 341 | gayeri\n",
      "City not found. Skipping.\n",
      " Processing Record 342 | carutapera\n",
      " Processing Record 343 | zemio\n",
      " Processing Record 344 | killybegs\n",
      " Processing Record 345 | lomonosov\n",
      " Processing Record 346 | kalabo\n",
      " Processing Record 347 | pushkino\n",
      " Processing Record 348 | huarmey\n",
      " Processing Record 349 | katherine\n",
      " Processing Record 350 | newtownards\n",
      " Processing Record 351 | karpathos\n",
      " Processing Record 352 | druzhba\n",
      " Processing Record 353 | thiruvananthapuram\n",
      "City not found. Skipping.\n",
      " Processing Record 354 | nesbyen\n",
      "City not found. Skipping.\n",
      " Processing Record 355 | valdivia\n",
      " Processing Record 356 | minsk\n",
      " Processing Record 357 | oban\n",
      "City not found. Skipping.\n",
      " Processing Record 358 | staryy nadym\n",
      " Processing Record 359 | grand gaube\n",
      "City not found. Skipping.\n",
      " Processing Record 360 | camacha\n",
      " Processing Record 361 | abu kamal\n",
      " Processing Record 362 | araouane\n",
      " Processing Record 363 | sydney\n",
      " Processing Record 364 | coahuayana\n",
      " Processing Record 365 | port macquarie\n",
      " Processing Record 366 | canutama\n",
      " Processing Record 367 | lahat\n",
      " Processing Record 368 | parfino\n",
      " Processing Record 369 | gizo\n",
      " Processing Record 370 | ancud\n",
      " Processing Record 371 | luderitz\n",
      " Processing Record 372 | codrington\n",
      " Processing Record 373 | lebu\n",
      " Processing Record 374 | kenai\n",
      " Processing Record 375 | akdepe\n",
      " Processing Record 376 | ushtobe\n",
      " Processing Record 377 | trairi\n",
      " Processing Record 378 | whitianga\n",
      " Processing Record 379 | katsuura\n",
      " Processing Record 380 | manzanillo\n",
      " Processing Record 381 | ngunguru\n",
      " Processing Record 382 | cidreira\n",
      " Processing Record 383 | naze\n",
      " Processing Record 384 | cabedelo\n",
      " Processing Record 385 | zhovtneve\n",
      " Processing Record 386 | angoche\n",
      " Processing Record 387 | beyneu\n",
      " Processing Record 388 | alugan\n",
      " Processing Record 389 | nova serrana\n",
      " Processing Record 390 | ostrovnoy\n",
      " Processing Record 391 | leua\n",
      "City not found. Skipping.\n",
      "City not found. Skipping.\n",
      "City not found. Skipping.\n",
      " Processing Record 392 | hadejia\n",
      " Processing Record 393 | tiksi\n",
      "City not found. Skipping.\n",
      " Processing Record 394 | axim\n",
      " Processing Record 395 | saint-paul\n",
      " Processing Record 396 | korla\n",
      " Processing Record 397 | caconda\n",
      " Processing Record 398 | norman wells\n",
      " Processing Record 399 | batagay\n",
      "City not found. Skipping.\n",
      " Processing Record 400 | simao\n",
      " Processing Record 401 | tukrah\n",
      " Processing Record 402 | yerbogachen\n",
      "City not found. Skipping.\n",
      " Processing Record 403 | nioro\n",
      "City not found. Skipping.\n",
      " Processing Record 404 | kathmandu\n",
      " Processing Record 405 | kailua\n",
      " Processing Record 406 | waidhofen\n",
      " Processing Record 407 | comandau\n",
      " Processing Record 408 | nchelenge\n",
      " Processing Record 409 | kapit\n",
      " Processing Record 410 | grand-santi\n",
      " Processing Record 411 | belle fourche\n",
      " Processing Record 412 | port-gentil\n",
      " Processing Record 413 | golynki\n",
      " Processing Record 414 | marsa matruh\n",
      "City not found. Skipping.\n",
      " Processing Record 415 | hay river\n",
      " Processing Record 416 | bilibino\n",
      " Processing Record 417 | pawayan\n",
      " Processing Record 418 | shahpura\n",
      " Processing Record 419 | los llanos de aridane\n",
      "City not found. Skipping.\n",
      " Processing Record 420 | morbegno\n",
      " Processing Record 421 | ugoofaaru\n",
      " Processing Record 422 | skibotn\n",
      " Processing Record 423 | quatre cocos\n",
      " Processing Record 424 | dunedin\n",
      "City not found. Skipping.\n",
      " Processing Record 425 | daru\n",
      "City not found. Skipping.\n",
      " Processing Record 426 | sladkovo\n",
      " Processing Record 427 | maragogi\n",
      "City not found. Skipping.\n",
      " Processing Record 428 | nouakchott\n",
      "City not found. Skipping.\n",
      "City not found. Skipping.\n",
      " Processing Record 429 | joura\n",
      " Processing Record 430 | zhigansk\n",
      " Processing Record 431 | jodar\n",
      " Processing Record 432 | kropotkin\n",
      " Processing Record 433 | zhicheng\n",
      " Processing Record 434 | burnie\n",
      " Processing Record 435 | belmonte\n",
      " Processing Record 436 | fairbanks\n",
      " Processing Record 437 | taicheng\n",
      " Processing Record 438 | danville\n",
      " Processing Record 439 | unai\n",
      " Processing Record 440 | avera\n",
      " Processing Record 441 | iwaki\n",
      " Processing Record 442 | filadelfia\n",
      " Processing Record 443 | cross lanes\n",
      "City not found. Skipping.\n",
      " Processing Record 444 | paciran\n"
     ]
    },
    {
     "name": "stdout",
     "output_type": "stream",
     "text": [
      "City not found. Skipping.\n",
      " Processing Record 445 | kruisfontein\n",
      " Processing Record 446 | grootfontein\n",
      " Processing Record 447 | cayenne\n",
      " Processing Record 448 | nipawin\n",
      " Processing Record 449 | tromso\n",
      " Processing Record 450 | mayo\n",
      " Processing Record 451 | liuhe\n",
      " Processing Record 452 | havoysund\n",
      " Processing Record 453 | aksu\n",
      " Processing Record 454 | necochea\n",
      " Processing Record 455 | vilhena\n",
      " Processing Record 456 | lima\n",
      " Processing Record 457 | meulaboh\n",
      " Processing Record 458 | esperance\n",
      "City not found. Skipping.\n",
      " Processing Record 459 | kamenka\n",
      " Processing Record 460 | porto novo\n",
      " Processing Record 461 | todos santos\n",
      " Processing Record 462 | paamiut\n",
      " Processing Record 463 | shakawe\n",
      " Processing Record 464 | singaparna\n",
      " Processing Record 465 | lukiv\n",
      " Processing Record 466 | baykit\n",
      " Processing Record 467 | ballina\n",
      " Processing Record 468 | pacifica\n",
      "City not found. Skipping.\n",
      " Processing Record 469 | salalah\n",
      " Processing Record 470 | brae\n",
      " Processing Record 471 | mugur-aksy\n",
      " Processing Record 472 | hami\n",
      " Processing Record 473 | gusevskiy\n",
      " Processing Record 474 | marinette\n",
      " Processing Record 475 | tyazhinskiy\n",
      " Processing Record 476 | rio claro\n",
      " Processing Record 477 | alofi\n",
      " Processing Record 478 | vanavara\n",
      " Processing Record 479 | whitehorse\n",
      " Processing Record 480 | salta\n",
      " Processing Record 481 | dayong\n",
      " Processing Record 482 | cururupu\n",
      " Processing Record 483 | balikpapan\n",
      "City not found. Skipping.\n",
      " Processing Record 484 | hervey bay\n",
      " Processing Record 485 | tiarei\n",
      " Processing Record 486 | morant bay\n",
      " Processing Record 487 | kulhudhuffushi\n",
      " Processing Record 488 | miraflores\n",
      " Processing Record 489 | brumado\n",
      " Processing Record 490 | vagur\n",
      " Processing Record 491 | naryan-mar\n",
      " Processing Record 492 | coari\n",
      " Processing Record 493 | palkino\n",
      " Processing Record 494 | utete\n",
      " Processing Record 495 | padron\n",
      " Processing Record 496 | mecca\n",
      " Processing Record 497 | san luis\n",
      " Processing Record 498 | istok\n",
      " Processing Record 499 | santo antonio do ica\n",
      " Processing Record 500 | sembakung\n",
      " Processing Record 501 | dicabisagan\n",
      " Processing Record 502 | verkhnevilyuysk\n",
      " Processing Record 503 | yuncheng\n",
      " Processing Record 504 | sept-iles\n",
      " Processing Record 505 | berdigestyakh\n",
      " Processing Record 506 | miyako\n",
      " Processing Record 507 | sao jose da coroa grande\n",
      " Processing Record 508 | atambua\n",
      " Processing Record 509 | baruun-urt\n",
      " Processing Record 510 | esmeraldas\n",
      " Processing Record 511 | ban nahin\n",
      " Processing Record 512 | pinotepa nacional\n",
      " Processing Record 513 | chute-aux-outardes\n",
      " Processing Record 514 | salinopolis\n",
      " Processing Record 515 | korhogo\n",
      " Processing Record 516 | ilhabela\n",
      " Processing Record 517 | moerai\n",
      " Processing Record 518 | khandbari\n",
      " Processing Record 519 | marienburg\n",
      " Processing Record 520 | gravdal\n",
      " Processing Record 521 | kedougou\n",
      " Processing Record 522 | deer lake\n",
      "City not found. Skipping.\n",
      " Processing Record 523 | hovd\n",
      " Processing Record 524 | kupang\n",
      " Processing Record 525 | laje\n",
      " Processing Record 526 | te anau\n",
      " Processing Record 527 | tuatapere\n",
      " Processing Record 528 | poum\n",
      " Processing Record 529 | durban\n",
      " Processing Record 530 | umm lajj\n",
      "City not found. Skipping.\n",
      " Processing Record 531 | shingu\n",
      " Processing Record 532 | isangel\n",
      " Processing Record 533 | humberto de campos\n",
      " Processing Record 534 | lannion\n",
      "City not found. Skipping.\n",
      " Processing Record 535 | karpogory\n",
      " Processing Record 536 | beringovskiy\n",
      " Processing Record 537 | muravlenko\n",
      " Processing Record 538 | bahia honda\n",
      " Processing Record 539 | port moresby\n",
      " Processing Record 540 | alexandria\n",
      " Processing Record 541 | sunrise manor\n",
      " Processing Record 542 | pauini\n",
      " Processing Record 543 | la romana\n",
      " Processing Record 544 | lac du bonnet\n",
      " Processing Record 545 | havre\n",
      " Processing Record 546 | rundu\n",
      " Processing Record 547 | camopi\n",
      " Processing Record 548 | mbandaka\n",
      " Processing Record 549 | nyandoma\n",
      " Processing Record 550 | strathroy\n",
      " Processing Record 551 | washougal\n",
      " Processing Record 552 | goderich\n",
      " Processing Record 553 | pokhara\n",
      " Processing Record 554 | cedar city\n",
      " Processing Record 555 | garowe\n",
      " Processing Record 556 | ternate\n",
      " Processing Record 557 | wakkanai\n",
      " Processing Record 558 | hengshui\n",
      " Processing Record 559 | uyuni\n",
      " Processing Record 560 | lokosovo\n",
      " Processing Record 561 | harper\n",
      " Processing Record 562 | macapa\n",
      " Processing Record 563 | tezu\n"
     ]
    }
   ],
   "source": [
    "# set up lists to hold reponse info\n",
    "lat = []\n",
    "lon = []\n",
    "max_temp = []\n",
    "hum = []\n",
    "cloud = []\n",
    "wspeed = []\n",
    "country = []\n",
    "date = []\n",
    "\n",
    "\n",
    "#counter\n",
    "counter = 0\n",
    "\n",
    "# Loop through the list of cities and perform a request for data on each\n",
    "for city in cities:\n",
    "    # Create search query, make request and store in json\n",
    "    query = query_url + city\n",
    "    response = requests.get(query)\n",
    "    response_json = response.json()   \n",
    "    \n",
    "    try:\n",
    "        lat.append(response_json['coord']['lat'])\n",
    "        lon.append(response_json['coord']['lon'])\n",
    "        max_temp.append(response_json['main']['temp_max'])\n",
    "        hum.append(response_json['main']['humidity'])\n",
    "        cloud.append(response_json['clouds']['all'])\n",
    "        wspeed.append(response_json['wind']['speed'])\n",
    "        country.append(response_json['sys']['country'])\n",
    "        date.append(response_json['dt'])\n",
    "        counter = counter + 1\n",
    "        print(f\" Processing Record {counter} | {city}\")\n",
    "        \n",
    "    except:\n",
    "        # Append null values\n",
    "        print(\"City not found. Skipping.\")\n",
    "        pass"
   ]
  },
  {
   "cell_type": "markdown",
   "metadata": {},
   "source": [
    "### Convert Raw Data to DataFrame\n",
    "* Export the city data into a .csv.\n",
    "* Display the DataFrame"
   ]
  },
  {
   "cell_type": "code",
   "execution_count": 6,
   "metadata": {},
   "outputs": [],
   "source": [
    "# Create DF\n",
    "# ValueError: arrays must all be same length\n",
    "\n",
    "weather_df = pd.DataFrame.from_dict({\n",
    "    \"City\": cities,\n",
    "    \"Lat\": lat,\n",
    "    \"Lng\": lon,\n",
    "    \"Max Temp (F)\": max_temp,\n",
    "    \"Humidity (%)\": hum,\n",
    "    \"Cloudiness (%)\": cloud,\n",
    "    \"Wind Speed (mph)\": wspeed,\n",
    "    \"Country\": country,\n",
    "    \"Date\": date\n",
    "}, orient='index')\n",
    "\n",
    "#weather_df.transpose()\n",
    "transposed_df = weather_df.transpose()\n",
    "# solution found here: https://stackoverflow.com/questions/40442014/python-pandas-valueerror-arrays-must-be-all-same-length"
   ]
  },
  {
   "cell_type": "code",
   "execution_count": 7,
   "metadata": {},
   "outputs": [
    {
     "data": {
      "text/plain": [
       "City                623\n",
       "Lat                 563\n",
       "Lng                 563\n",
       "Max Temp (F)        563\n",
       "Humidity (%)        563\n",
       "Cloudiness (%)      563\n",
       "Wind Speed (mph)    563\n",
       "Country             563\n",
       "Date                563\n",
       "dtype: int64"
      ]
     },
     "execution_count": 7,
     "metadata": {},
     "output_type": "execute_result"
    }
   ],
   "source": [
    "# count data\n",
    "transposed_df.count()"
   ]
  },
  {
   "cell_type": "code",
   "execution_count": 8,
   "metadata": {},
   "outputs": [
    {
     "data": {
      "text/plain": [
       "City                563\n",
       "Lat                 563\n",
       "Lng                 563\n",
       "Max Temp (F)        563\n",
       "Humidity (%)        563\n",
       "Cloudiness (%)      563\n",
       "Wind Speed (mph)    563\n",
       "Country             563\n",
       "Date                563\n",
       "dtype: int64"
      ]
     },
     "execution_count": 8,
     "metadata": {},
     "output_type": "execute_result"
    }
   ],
   "source": [
    "# get rid of 'none' values - city outnumbers rest of data\n",
    "cleaned_weather_df = transposed_df.dropna()\n",
    "# check in count\n",
    "cleaned_weather_df.count()"
   ]
  },
  {
   "cell_type": "code",
   "execution_count": 9,
   "metadata": {},
   "outputs": [
    {
     "data": {
      "text/html": [
       "<div>\n",
       "<style scoped>\n",
       "    .dataframe tbody tr th:only-of-type {\n",
       "        vertical-align: middle;\n",
       "    }\n",
       "\n",
       "    .dataframe tbody tr th {\n",
       "        vertical-align: top;\n",
       "    }\n",
       "\n",
       "    .dataframe thead th {\n",
       "        text-align: right;\n",
       "    }\n",
       "</style>\n",
       "<table border=\"1\" class=\"dataframe\">\n",
       "  <thead>\n",
       "    <tr style=\"text-align: right;\">\n",
       "      <th></th>\n",
       "      <th>City</th>\n",
       "      <th>Lat</th>\n",
       "      <th>Lng</th>\n",
       "      <th>Max Temp (F)</th>\n",
       "      <th>Humidity (%)</th>\n",
       "      <th>Cloudiness (%)</th>\n",
       "      <th>Wind Speed (mph)</th>\n",
       "      <th>Country</th>\n",
       "      <th>Date</th>\n",
       "    </tr>\n",
       "  </thead>\n",
       "  <tbody>\n",
       "    <tr>\n",
       "      <th>0</th>\n",
       "      <td>arraial do cabo</td>\n",
       "      <td>-22.97</td>\n",
       "      <td>-42.03</td>\n",
       "      <td>75.2</td>\n",
       "      <td>60</td>\n",
       "      <td>20</td>\n",
       "      <td>10.29</td>\n",
       "      <td>BR</td>\n",
       "      <td>1596650870</td>\n",
       "    </tr>\n",
       "    <tr>\n",
       "      <th>1</th>\n",
       "      <td>barrow</td>\n",
       "      <td>71.29</td>\n",
       "      <td>-156.79</td>\n",
       "      <td>44.6</td>\n",
       "      <td>87</td>\n",
       "      <td>75</td>\n",
       "      <td>13.87</td>\n",
       "      <td>US</td>\n",
       "      <td>1596650871</td>\n",
       "    </tr>\n",
       "    <tr>\n",
       "      <th>2</th>\n",
       "      <td>vestmannaeyjar</td>\n",
       "      <td>63.44</td>\n",
       "      <td>-20.27</td>\n",
       "      <td>51.8</td>\n",
       "      <td>87</td>\n",
       "      <td>40</td>\n",
       "      <td>10.29</td>\n",
       "      <td>IS</td>\n",
       "      <td>1596650871</td>\n",
       "    </tr>\n",
       "    <tr>\n",
       "      <th>3</th>\n",
       "      <td>tarija</td>\n",
       "      <td>-21.54</td>\n",
       "      <td>-64.73</td>\n",
       "      <td>75.2</td>\n",
       "      <td>31</td>\n",
       "      <td>0</td>\n",
       "      <td>5.82</td>\n",
       "      <td>BO</td>\n",
       "      <td>1596650871</td>\n",
       "    </tr>\n",
       "    <tr>\n",
       "      <th>4</th>\n",
       "      <td>new norfolk</td>\n",
       "      <td>-42.78</td>\n",
       "      <td>147.06</td>\n",
       "      <td>45</td>\n",
       "      <td>78</td>\n",
       "      <td>99</td>\n",
       "      <td>3</td>\n",
       "      <td>AU</td>\n",
       "      <td>1596650871</td>\n",
       "    </tr>\n",
       "  </tbody>\n",
       "</table>\n",
       "</div>"
      ],
      "text/plain": [
       "              City    Lat     Lng Max Temp (F) Humidity (%) Cloudiness (%)  \\\n",
       "0  arraial do cabo -22.97  -42.03         75.2           60             20   \n",
       "1           barrow  71.29 -156.79         44.6           87             75   \n",
       "2   vestmannaeyjar  63.44  -20.27         51.8           87             40   \n",
       "3           tarija -21.54  -64.73         75.2           31              0   \n",
       "4      new norfolk -42.78  147.06           45           78             99   \n",
       "\n",
       "  Wind Speed (mph) Country        Date  \n",
       "0            10.29      BR  1596650870  \n",
       "1            13.87      US  1596650871  \n",
       "2            10.29      IS  1596650871  \n",
       "3             5.82      BO  1596650871  \n",
       "4                3      AU  1596650871  "
      ]
     },
     "execution_count": 9,
     "metadata": {},
     "output_type": "execute_result"
    }
   ],
   "source": [
    "cleaned_weather_df.head()"
   ]
  },
  {
   "cell_type": "code",
   "execution_count": 10,
   "metadata": {},
   "outputs": [],
   "source": [
    "# export csv\n",
    "cleaned_weather_df.to_csv(output_data_file)"
   ]
  },
  {
   "cell_type": "markdown",
   "metadata": {},
   "source": [
    "## Inspect the data and remove the cities where the humidity > 100%.\n",
    "----\n",
    "Skip this step if there are no cities that have humidity > 100%. "
   ]
  },
  {
   "cell_type": "code",
   "execution_count": 12,
   "metadata": {},
   "outputs": [],
   "source": [
    "# locate humidity outliers\n",
    "humid_outliers = cleaned_weather_df.loc[cleaned_weather_df['Humidity (%)'] > 100]"
   ]
  },
  {
   "cell_type": "code",
   "execution_count": null,
   "metadata": {},
   "outputs": [],
   "source": [
    "# no outliers "
   ]
  },
  {
   "cell_type": "markdown",
   "metadata": {},
   "source": [
    "## Plotting the Data\n",
    "* Use proper labeling of the plots using plot titles (including date of analysis) and axes labels.\n",
    "* Save the plotted figures as .pngs."
   ]
  },
  {
   "cell_type": "markdown",
   "metadata": {},
   "source": [
    "## Latitude vs. Temperature Plot"
   ]
  },
  {
   "cell_type": "code",
   "execution_count": 18,
   "metadata": {
    "scrolled": true
   },
   "outputs": [
    {
     "data": {
      "image/png": "[encoded data removed]",
      "text/plain": [
       "<Figure size 432x288 with 1 Axes>"
      ]
     },
     "metadata": {
      "needs_background": "light"
     },
     "output_type": "display_data"
    },
    {
     "data": {
      "text/plain": [
       "<Figure size 864x432 with 0 Axes>"
      ]
     },
     "metadata": {},
     "output_type": "display_data"
    }
   ],
   "source": [
    "# Create Latitude vs. Temperature Plot scatter plot\n",
    "plt.scatter(cleaned_weather_df[\"Lat\"], cleaned_weather_df[\"Max Temp (F)\"], color = \"tab:blue\", alpha=0.5)\n",
    "\n",
    "# Titles\n",
    "plt.title(\"City Latitude vs. Maximum Temperature (08/05/2020)\", fontweight = \"black\")\n",
    "plt.ylabel(\"Maximum Temperature (F)\")\n",
    "plt.xlabel(\"Latitude\")\n",
    "\n",
    "# formatting\n",
    "plt.figure(figsize=(12,6))\n",
    "\n",
    "# save figure\n",
    "plt.savefig('output_data/CityLatVsMaxTemp.png')\n",
    "plt.show()"
   ]
  },
  {
   "cell_type": "markdown",
   "metadata": {},
   "source": [
    "## Latitude vs. Humidity Plot"
   ]
  },
  {
   "cell_type": "code",
   "execution_count": 19,
   "metadata": {},
   "outputs": [
    {
     "data": {
      "image/png": "[encoded data removed]",
      "text/plain": [
       "<Figure size 432x288 with 1 Axes>"
      ]
     },
     "metadata": {
      "needs_background": "light"
     },
     "output_type": "display_data"
    },
    {
     "data": {
      "text/plain": [
       "<Figure size 864x432 with 0 Axes>"
      ]
     },
     "metadata": {},
     "output_type": "display_data"
    }
   ],
   "source": [
    "# Create Latitude vs. Temperature Plot scatter plot\n",
    "plt.scatter(cleaned_weather_df[\"Lat\"], cleaned_weather_df[\"Humidity (%)\"], color = \"tab:purple\", alpha=0.5)\n",
    "\n",
    "# Titles\n",
    "plt.title(\"City Latitude vs. Humidity (08/05/2020)\", fontweight = \"black\")\n",
    "plt.ylabel(\"Humidity (%)\")\n",
    "plt.xlabel(\"Latitude\")\n",
    "\n",
    "# formatting\n",
    "plt.figure(figsize=(12,6))\n",
    "\n",
    "# save figure\n",
    "plt.savefig('output_data/CityLatVsHumidity.png')\n",
    "plt.show()"
   ]
  },
  {
   "cell_type": "markdown",
   "metadata": {},
   "source": [
    "## Latitude vs. Cloudiness Plot"
   ]
  },
  {
   "cell_type": "code",
   "execution_count": 20,
   "metadata": {},
   "outputs": [
    {
     "data": {
      "image/png": "[encoded data removed]",
      "text/plain": [
       "<Figure size 432x288 with 1 Axes>"
      ]
     },
     "metadata": {
      "needs_background": "light"
     },
     "output_type": "display_data"
    },
    {
     "data": {
      "text/plain": [
       "<Figure size 864x432 with 0 Axes>"
      ]
     },
     "metadata": {},
     "output_type": "display_data"
    }
   ],
   "source": [
    "# Create Latitude vs. Temperature Plot scatter plot\n",
    "plt.scatter(cleaned_weather_df[\"Lat\"], cleaned_weather_df[\"Cloudiness (%)\"], color = \"tab:blue\", alpha=0.5)\n",
    "\n",
    "# Titles\n",
    "plt.title(\"City Latitude vs. Cloudiness (08/05/2020)\", fontweight = \"black\")\n",
    "plt.ylabel(\"Cloudiness (%)\")\n",
    "plt.xlabel(\"Latitude\")\n",
    "\n",
    "# formatting\n",
    "plt.figure(figsize=(12,6))\n",
    "\n",
    "# save figure\n",
    "plt.savefig('output_data/CityLatVsCloudiness.png')\n",
    "plt.show()"
   ]
  },
  {
   "cell_type": "markdown",
   "metadata": {},
   "source": [
    "## Latitude vs. Wind Speed Plot"
   ]
  },
  {
   "cell_type": "code",
   "execution_count": 22,
   "metadata": {},
   "outputs": [
    {
     "data": {
      "image/png": "[encoded data removed]",
      "text/plain": [
       "<Figure size 432x288 with 1 Axes>"
      ]
     },
     "metadata": {
      "needs_background": "light"
     },
     "output_type": "display_data"
    },
    {
     "data": {
      "text/plain": [
       "<Figure size 864x432 with 0 Axes>"
      ]
     },
     "metadata": {},
     "output_type": "display_data"
    }
   ],
   "source": [
    "# Create Latitude vs. Temperature Plot scatter plot\n",
    "plt.scatter(cleaned_weather_df[\"Lat\"], cleaned_weather_df[\"Wind Speed (mph)\"], color = \"tab:orange\", alpha=0.5)\n",
    "\n",
    "# Titles\n",
    "plt.title(\"City Latitude vs. Wind Speed (mph) (08/05/2020)\", fontweight = \"black\")\n",
    "plt.ylabel(\"Wind Speed (mph)\")\n",
    "plt.xlabel(\"Latitude\")\n",
    "\n",
    "# formatting\n",
    "plt.figure(figsize=(12,6))\n",
    "\n",
    "# save figure\n",
    "plt.savefig('output_data/CityLatVsWindSpeed.png')\n",
    "plt.show()"
   ]
  },
  {
   "cell_type": "markdown",
   "metadata": {},
   "source": [
    "## Linear Regression"
   ]
  },
  {
   "cell_type": "code",
   "execution_count": 30,
   "metadata": {},
   "outputs": [],
   "source": [
    "# OPTIONAL: Create a function to create Linear Regression plots\n",
    "def latitude_lin_regress(df, title_name, y, equationplot):   #, regress_file_name\n",
    "    x_values = df['Lat']\n",
    "    y_values = df[y] \n",
    "    (slope, intercept, rvalue, pvalue, stderr) = linregress(x_values, y_values)\n",
    "    regress_values = x_values * slope + intercept\n",
    "    line_eq = \"y = \" + str(round(slope,2)) + \"x + \" + str(round(intercept,2))\n",
    "    plt.scatter(x_values,y_values)\n",
    "    plt.plot(x_values,regress_values,\"r-\")\n",
    "    plt.annotate(line_eq, equationplot ,fontsize=15,color=\"red\")\n",
    "    plt.title(title_name)\n",
    "    plt.xlabel('Latitude')\n",
    "    plt.ylabel(y)\n",
    "#     plt.savefig(regress_file_name)\n",
    "    print(f\"The r-squared is: {rvalue**2}\") \n",
    "    plt.show()"
   ]
  },
  {
   "cell_type": "code",
   "execution_count": 31,
   "metadata": {},
   "outputs": [],
   "source": [
    "# Create Northern and Southern Hemisphere DataFrames by using .loc\n",
    "north_hem_df = cleaned_weather_df.loc[(cleaned_weather_df[\"Lat\"] >= 0) & (cleaned_weather_df[\"Lat\"] <= 90)]\n",
    "\n",
    "south_hem_df = cleaned_weather_df.loc[(cleaned_weather_df[\"Lat\"] >= -90) & (cleaned_weather_df[\"Lat\"] <= 0)]\n"
   ]
  },
  {
   "cell_type": "markdown",
   "metadata": {},
   "source": [
    "####  Northern Hemisphere - Max Temp vs. Latitude Linear Regression"
   ]
  },
  {
   "cell_type": "code",
   "execution_count": 33,
   "metadata": {},
   "outputs": [],
   "source": [
    "#AttributeError: 'float' object has no attribute 'shape'\n",
    "# x_values = north_hem[\"Lat\"]\n",
    "# y_values = north_hem[\"Max_Temp\"]\n",
    "# (slope, intercept, rvalue, pvalue, stderr) = linregress(x_values, y_values)\n",
    "# regress_values = x_values * slope + intercept\n",
    "# line_eq = \"y = \" + str(round(slope,2)) + \"x + \" + str(round(intercept,2))\n",
    "# plt.scatter(x_values,y_values)\n",
    "# plt.plot(x_values,regress_values,\"r-\")\n",
    "# plt.annotate(line_eq,(6,45),fontsize=15,color=\"red\")\n",
    "# plt.title(\"Max Temp Relative to Latitude in Northern Hemisphere Cities (8/03/2020)\")\n",
    "# plt.xlabel(\"Latitude\")\n",
    "# plt.ylabel(\"Max Temperature (F)\")\n",
    "# plt.grid(True)\n",
    "# print(f\"The r-squared is: {rvalue**2}\")\n",
    "# plt.show()\n",
    "\n",
    "# latitude_lin_regress(north_hem_df, f\"Northern Hemisphere - Max Temp vs. Latitude Linear Regression (08/05/2020)\", 'Max Temp (F)', (10,40))\n",
    "\n",
    "\n"
   ]
  },
  {
   "cell_type": "markdown",
   "metadata": {},
   "source": [
    "####  Southern Hemisphere - Max Temp vs. Latitude Linear Regression"
   ]
  },
  {
   "cell_type": "code",
   "execution_count": null,
   "metadata": {},
   "outputs": [],
   "source": []
  },
  {
   "cell_type": "markdown",
   "metadata": {},
   "source": [
    "####  Northern Hemisphere - Humidity (%) vs. Latitude Linear Regression"
   ]
  },
  {
   "cell_type": "code",
   "execution_count": null,
   "metadata": {},
   "outputs": [],
   "source": []
  },
  {
   "cell_type": "markdown",
   "metadata": {},
   "source": [
    "####  Southern Hemisphere - Humidity (%) vs. Latitude Linear Regression"
   ]
  },
  {
   "cell_type": "code",
   "execution_count": null,
   "metadata": {},
   "outputs": [],
   "source": []
  },
  {
   "cell_type": "markdown",
   "metadata": {},
   "source": [
    "####  Northern Hemisphere - Cloudiness (%) vs. Latitude Linear Regression"
   ]
  },
  {
   "cell_type": "code",
   "execution_count": null,
   "metadata": {},
   "outputs": [],
   "source": []
  },
  {
   "cell_type": "markdown",
   "metadata": {},
   "source": [
    "####  Southern Hemisphere - Cloudiness (%) vs. Latitude Linear Regression"
   ]
  },
  {
   "cell_type": "code",
   "execution_count": null,
   "metadata": {},
   "outputs": [],
   "source": []
  },
  {
   "cell_type": "markdown",
   "metadata": {},
   "source": [
    "####  Northern Hemisphere - Wind Speed (mph) vs. Latitude Linear Regression"
   ]
  },
  {
   "cell_type": "code",
   "execution_count": null,
   "metadata": {},
   "outputs": [],
   "source": []
  },
  {
   "cell_type": "markdown",
   "metadata": {},
   "source": [
    "####  Southern Hemisphere - Wind Speed (mph) vs. Latitude Linear Regression"
   ]
  },
  {
   "cell_type": "code",
   "execution_count": null,
   "metadata": {},
   "outputs": [],
   "source": []
  },
  {
   "cell_type": "code",
   "execution_count": null,
   "metadata": {},
   "outputs": [],
   "source": []
  }
 ],
 "metadata": {
  "anaconda-cloud": {},
  "kernel_info": {
   "name": "python3"
  },
  "kernelspec": {
   "display_name": "Python 3",
   "language": "python",
   "name": "python3"
  },
  "language_info": {
   "codemirror_mode": {
    "name": "ipython",
    "version": 3
   },
   "file_extension": ".py",
   "mimetype": "text/x-python",
   "name": "python",
   "nbconvert_exporter": "python",
   "pygments_lexer": "ipython3",
   "version": "3.6.10"
  },
  "latex_envs": {
   "LaTeX_envs_menu_present": true,
   "autoclose": false,
   "autocomplete": true,
   "bibliofile": "biblio.bib",
   "cite_by": "apalike",
   "current_citInitial": 1,
   "eqLabelWithNumbers": true,
   "eqNumInitial": 1,
   "hotkeys": {
    "equation": "Ctrl-E",
    "itemize": "Ctrl-I"
   },
   "labels_anchors": false,
   "latex_user_defs": false,
   "report_style_numbering": false,
   "user_envs_cfg": false
  },
  "nteract": {
   "version": "0.12.3"
  }
 },
 "nbformat": 4,
 "nbformat_minor": 2
}
